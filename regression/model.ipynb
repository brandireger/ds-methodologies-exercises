{
 "cells": [
  {
   "cell_type": "code",
   "execution_count": 1,
   "metadata": {},
   "outputs": [],
   "source": [
    "import pandas as pd\n",
    "import numpy as np\n",
    "import matplotlib.pyplot as plt\n",
    "%matplotlib inline\n",
    "import seaborn as sns\n",
    "from sklearn.metrics import mean_squared_error, explained_variance_score\n",
    "from sklearn.linear_model import LinearRegression\n",
    "from sklearn.feature_selection import RFE\n",
    "\n",
    "import warnings\n",
    "warnings.filterwarnings(\"ignore\")\n",
    "\n",
    "import evaluate\n",
    "import wrangle\n",
    "import split_scale\n",
    "import feature_engineering"
   ]
  },
  {
   "cell_type": "markdown",
   "metadata": {},
   "source": [
    "# Using the data on student grades from this lesson, complete the following:"
   ]
  },
  {
   "cell_type": "code",
   "execution_count": 2,
   "metadata": {},
   "outputs": [
    {
     "data": {
      "text/html": [
       "<div>\n",
       "<style scoped>\n",
       "    .dataframe tbody tr th:only-of-type {\n",
       "        vertical-align: middle;\n",
       "    }\n",
       "\n",
       "    .dataframe tbody tr th {\n",
       "        vertical-align: top;\n",
       "    }\n",
       "\n",
       "    .dataframe thead th {\n",
       "        text-align: right;\n",
       "    }\n",
       "</style>\n",
       "<table border=\"1\" class=\"dataframe\">\n",
       "  <thead>\n",
       "    <tr style=\"text-align: right;\">\n",
       "      <th></th>\n",
       "      <th>student_id</th>\n",
       "      <th>exam1</th>\n",
       "      <th>exam2</th>\n",
       "      <th>exam3</th>\n",
       "      <th>final_grade</th>\n",
       "    </tr>\n",
       "  </thead>\n",
       "  <tbody>\n",
       "    <tr>\n",
       "      <th>0</th>\n",
       "      <td>1</td>\n",
       "      <td>100</td>\n",
       "      <td>90</td>\n",
       "      <td>95</td>\n",
       "      <td>96</td>\n",
       "    </tr>\n",
       "    <tr>\n",
       "      <th>1</th>\n",
       "      <td>2</td>\n",
       "      <td>98</td>\n",
       "      <td>93</td>\n",
       "      <td>96</td>\n",
       "      <td>95</td>\n",
       "    </tr>\n",
       "    <tr>\n",
       "      <th>2</th>\n",
       "      <td>3</td>\n",
       "      <td>85</td>\n",
       "      <td>83</td>\n",
       "      <td>87</td>\n",
       "      <td>87</td>\n",
       "    </tr>\n",
       "    <tr>\n",
       "      <th>3</th>\n",
       "      <td>4</td>\n",
       "      <td>83</td>\n",
       "      <td>80</td>\n",
       "      <td>86</td>\n",
       "      <td>85</td>\n",
       "    </tr>\n",
       "    <tr>\n",
       "      <th>4</th>\n",
       "      <td>5</td>\n",
       "      <td>93</td>\n",
       "      <td>90</td>\n",
       "      <td>96</td>\n",
       "      <td>97</td>\n",
       "    </tr>\n",
       "  </tbody>\n",
       "</table>\n",
       "</div>"
      ],
      "text/plain": [
       "   student_id  exam1  exam2  exam3  final_grade\n",
       "0           1    100     90     95           96\n",
       "1           2     98     93     96           95\n",
       "2           3     85     83     87           87\n",
       "3           4     83     80     86           85\n",
       "4           5     93     90     96           97"
      ]
     },
     "execution_count": 2,
     "metadata": {},
     "output_type": "execute_result"
    }
   ],
   "source": [
    "df = wrangle.wrangle_grades()\n",
    "df.head()"
   ]
  },
  {
   "cell_type": "markdown",
   "metadata": {},
   "source": [
    "## Split the data into train and test datasets."
   ]
  },
  {
   "cell_type": "code",
   "execution_count": 3,
   "metadata": {},
   "outputs": [],
   "source": [
    "train, test = split_scale.split_my_data(df, 0.8)"
   ]
  },
  {
   "cell_type": "code",
   "execution_count": 4,
   "metadata": {},
   "outputs": [],
   "source": [
    "predictions = pd.DataFrame({\n",
    "    'actual': train.final_grade,\n",
    "    'baseline': train.final_grade.mean()\n",
    "})"
   ]
  },
  {
   "cell_type": "markdown",
   "metadata": {},
   "source": [
    "## Create a model that uses exam 1 to predict the final grade."
   ]
  },
  {
   "cell_type": "code",
   "execution_count": 5,
   "metadata": {},
   "outputs": [
    {
     "data": {
      "text/html": [
       "<div>\n",
       "<style scoped>\n",
       "    .dataframe tbody tr th:only-of-type {\n",
       "        vertical-align: middle;\n",
       "    }\n",
       "\n",
       "    .dataframe tbody tr th {\n",
       "        vertical-align: top;\n",
       "    }\n",
       "\n",
       "    .dataframe thead th {\n",
       "        text-align: right;\n",
       "    }\n",
       "</style>\n",
       "<table border=\"1\" class=\"dataframe\">\n",
       "  <thead>\n",
       "    <tr style=\"text-align: right;\">\n",
       "      <th></th>\n",
       "      <th>actual</th>\n",
       "      <th>baseline</th>\n",
       "      <th>exam1_lm</th>\n",
       "    </tr>\n",
       "  </thead>\n",
       "  <tbody>\n",
       "    <tr>\n",
       "      <th>89</th>\n",
       "      <td>65</td>\n",
       "      <td>81.555556</td>\n",
       "      <td>65.177796</td>\n",
       "    </tr>\n",
       "    <tr>\n",
       "      <th>80</th>\n",
       "      <td>87</td>\n",
       "      <td>81.555556</td>\n",
       "      <td>86.723480</td>\n",
       "    </tr>\n",
       "    <tr>\n",
       "      <th>98</th>\n",
       "      <td>76</td>\n",
       "      <td>81.555556</td>\n",
       "      <td>77.489615</td>\n",
       "    </tr>\n",
       "    <tr>\n",
       "      <th>96</th>\n",
       "      <td>81</td>\n",
       "      <td>81.555556</td>\n",
       "      <td>82.106547</td>\n",
       "    </tr>\n",
       "    <tr>\n",
       "      <th>53</th>\n",
       "      <td>95</td>\n",
       "      <td>81.555556</td>\n",
       "      <td>96.726833</td>\n",
       "    </tr>\n",
       "  </tbody>\n",
       "</table>\n",
       "</div>"
      ],
      "text/plain": [
       "    actual   baseline   exam1_lm\n",
       "89      65  81.555556  65.177796\n",
       "80      87  81.555556  86.723480\n",
       "98      76  81.555556  77.489615\n",
       "96      81  81.555556  82.106547\n",
       "53      95  81.555556  96.726833"
      ]
     },
     "execution_count": 5,
     "metadata": {},
     "output_type": "execute_result"
    }
   ],
   "source": [
    "X = train[['exam1']]\n",
    "y = train.final_grade\n",
    "\n",
    "lm = LinearRegression().fit(X, y)\n",
    "predictions['exam1_lm'] = lm.predict(X)\n",
    "predictions.head()"
   ]
  },
  {
   "cell_type": "markdown",
   "metadata": {},
   "source": [
    "## Create a model that uses exam 2 to predict the final grade."
   ]
  },
  {
   "cell_type": "code",
   "execution_count": 6,
   "metadata": {},
   "outputs": [
    {
     "data": {
      "text/html": [
       "<div>\n",
       "<style scoped>\n",
       "    .dataframe tbody tr th:only-of-type {\n",
       "        vertical-align: middle;\n",
       "    }\n",
       "\n",
       "    .dataframe tbody tr th {\n",
       "        vertical-align: top;\n",
       "    }\n",
       "\n",
       "    .dataframe thead th {\n",
       "        text-align: right;\n",
       "    }\n",
       "</style>\n",
       "<table border=\"1\" class=\"dataframe\">\n",
       "  <thead>\n",
       "    <tr style=\"text-align: right;\">\n",
       "      <th></th>\n",
       "      <th>actual</th>\n",
       "      <th>baseline</th>\n",
       "      <th>exam1_lm</th>\n",
       "      <th>exam2_lm</th>\n",
       "    </tr>\n",
       "  </thead>\n",
       "  <tbody>\n",
       "    <tr>\n",
       "      <th>89</th>\n",
       "      <td>65</td>\n",
       "      <td>81.555556</td>\n",
       "      <td>65.177796</td>\n",
       "      <td>69.472453</td>\n",
       "    </tr>\n",
       "    <tr>\n",
       "      <th>80</th>\n",
       "      <td>87</td>\n",
       "      <td>81.555556</td>\n",
       "      <td>86.723480</td>\n",
       "      <td>87.195957</td>\n",
       "    </tr>\n",
       "    <tr>\n",
       "      <th>98</th>\n",
       "      <td>76</td>\n",
       "      <td>81.555556</td>\n",
       "      <td>77.489615</td>\n",
       "      <td>74.395649</td>\n",
       "    </tr>\n",
       "    <tr>\n",
       "      <th>96</th>\n",
       "      <td>81</td>\n",
       "      <td>81.555556</td>\n",
       "      <td>82.106547</td>\n",
       "      <td>74.395649</td>\n",
       "    </tr>\n",
       "    <tr>\n",
       "      <th>53</th>\n",
       "      <td>95</td>\n",
       "      <td>81.555556</td>\n",
       "      <td>96.726833</td>\n",
       "      <td>97.042348</td>\n",
       "    </tr>\n",
       "  </tbody>\n",
       "</table>\n",
       "</div>"
      ],
      "text/plain": [
       "    actual   baseline   exam1_lm   exam2_lm\n",
       "89      65  81.555556  65.177796  69.472453\n",
       "80      87  81.555556  86.723480  87.195957\n",
       "98      76  81.555556  77.489615  74.395649\n",
       "96      81  81.555556  82.106547  74.395649\n",
       "53      95  81.555556  96.726833  97.042348"
      ]
     },
     "execution_count": 6,
     "metadata": {},
     "output_type": "execute_result"
    }
   ],
   "source": [
    "X = train[['exam2']]\n",
    "y = train.final_grade\n",
    "\n",
    "lm = LinearRegression().fit(X, y)\n",
    "predictions['exam2_lm'] = lm.predict(X)\n",
    "predictions.head()"
   ]
  },
  {
   "cell_type": "markdown",
   "metadata": {},
   "source": [
    "## Compare your models in the following manner:\n",
    "### Calculate the mean squared error"
   ]
  },
  {
   "cell_type": "code",
   "execution_count": 7,
   "metadata": {},
   "outputs": [],
   "source": [
    "SSE1, ESS1, TSS1, MSE1, RMSE1 = evaluate.regression_errors(train.final_grade, predictions.exam1_lm)\n",
    "SSE2, ESS2, TSS2, MSE2, RMSE2 = evaluate.regression_errors(train.final_grade, predictions.exam2_lm)"
   ]
  },
  {
   "cell_type": "code",
   "execution_count": 8,
   "metadata": {},
   "outputs": [
    {
     "data": {
      "text/plain": [
       "(4.134484679198818, 17.21584923568434)"
      ]
     },
     "execution_count": 8,
     "metadata": {},
     "output_type": "execute_result"
    }
   ],
   "source": [
    "MSE1, MSE2"
   ]
  },
  {
   "cell_type": "code",
   "execution_count": 9,
   "metadata": {},
   "outputs": [
    {
     "data": {
      "text/plain": [
       "(2.0333432271013216, 4.149198625720916)"
      ]
     },
     "execution_count": 9,
     "metadata": {},
     "output_type": "execute_result"
    }
   ],
   "source": [
    "RMSE1, RMSE2"
   ]
  },
  {
   "cell_type": "markdown",
   "metadata": {},
   "source": [
    "### Visualize the residuals. Create a separate visualization for each model."
   ]
  },
  {
   "cell_type": "code",
   "execution_count": 10,
   "metadata": {},
   "outputs": [
    {
     "data": {
      "text/plain": [
       "<matplotlib.axes._subplots.AxesSubplot at 0x11ed809d0>"
      ]
     },
     "execution_count": 10,
     "metadata": {},
     "output_type": "execute_result"
    },
    {
     "data": {
      "image/png": "[encoded data removed]",
      "text/plain": [
       "<Figure size 432x288 with 1 Axes>"
      ]
     },
     "metadata": {
      "needs_background": "light"
     },
     "output_type": "display_data"
    }
   ],
   "source": [
    "sns.residplot(predictions.actual, predictions.exam1_lm)"
   ]
  },
  {
   "cell_type": "code",
   "execution_count": 11,
   "metadata": {},
   "outputs": [
    {
     "data": {
      "text/plain": [
       "<matplotlib.axes._subplots.AxesSubplot at 0x11f530510>"
      ]
     },
     "execution_count": 11,
     "metadata": {},
     "output_type": "execute_result"
    },
    {
     "data": {
      "image/png": "[encoded data removed]",
      "text/plain": [
       "<Figure size 432x288 with 1 Axes>"
      ]
     },
     "metadata": {
      "needs_background": "light"
     },
     "output_type": "display_data"
    }
   ],
   "source": [
    "sns.residplot(predictions.actual, predictions.exam2_lm)"
   ]
  },
  {
   "cell_type": "markdown",
   "metadata": {},
   "source": [
    "### Visualize the actual vs the predicted values. Create a seperate visualization for each model."
   ]
  },
  {
   "cell_type": "code",
   "execution_count": 12,
   "metadata": {},
   "outputs": [
    {
     "data": {
      "text/plain": [
       "<matplotlib.collections.PathCollection at 0x11f651a50>"
      ]
     },
     "execution_count": 12,
     "metadata": {},
     "output_type": "execute_result"
    },
    {
     "data": {
      "image/png": "[encoded data removed]",
      "text/plain": [
       "<Figure size 432x288 with 1 Axes>"
      ]
     },
     "metadata": {
      "needs_background": "light"
     },
     "output_type": "display_data"
    }
   ],
   "source": [
    "plt.scatter(predictions.actual, predictions.exam1_lm)"
   ]
  },
  {
   "cell_type": "code",
   "execution_count": 13,
   "metadata": {},
   "outputs": [
    {
     "data": {
      "text/plain": [
       "<matplotlib.collections.PathCollection at 0x11f756f50>"
      ]
     },
     "execution_count": 13,
     "metadata": {},
     "output_type": "execute_result"
    },
    {
     "data": {
      "image/png": "[encoded data removed]",
      "text/plain": [
       "<Figure size 432x288 with 1 Axes>"
      ]
     },
     "metadata": {
      "needs_background": "light"
     },
     "output_type": "display_data"
    }
   ],
   "source": [
    "plt.scatter(predictions.actual, predictions.exam2_lm)"
   ]
  },
  {
   "cell_type": "markdown",
   "metadata": {},
   "source": [
    "### Bonus: Combine the seperate visualizations for each model into a single visualization. Is this visual helpful?"
   ]
  },
  {
   "cell_type": "code",
   "execution_count": 14,
   "metadata": {},
   "outputs": [
    {
     "data": {
      "text/plain": [
       "Text(0.5, 1.0, 'Predicted vs Actual Final Grade')"
      ]
     },
     "execution_count": 14,
     "metadata": {},
     "output_type": "execute_result"
    },
    {
     "data": {
      "image/png": "[encoded data removed]",
      "text/plain": [
       "<Figure size 648x648 with 1 Axes>"
      ]
     },
     "metadata": {
      "needs_background": "light"
     },
     "output_type": "display_data"
    }
   ],
   "source": [
    "plt.figure(figsize=(9, 9))\n",
    "\n",
    "plt.scatter(predictions.actual, predictions.exam1_lm, label='Linear Model of exam1', marker='o')\n",
    "plt.scatter(predictions.actual, predictions.exam2_lm, label='Linear Model of exam2', marker='o')\n",
    "plt.scatter(predictions.actual, predictions.baseline, label='Baseline', marker='o')\n",
    "plt.plot([60, 100], [60, 100], label='Perfect predictions', ls=':', c='grey')\n",
    "\n",
    "plt.legend(title='Model')\n",
    "plt.ylabel('Predicted Final Grade')\n",
    "plt.xlabel('Actual Final Grade')\n",
    "plt.title('Predicted vs Actual Final Grade')"
   ]
  },
  {
   "cell_type": "markdown",
   "metadata": {},
   "source": [
    "## Create a model that uses exam 1 and exam 3 to predict final grade. How does this model compare to your previous ones?"
   ]
  },
  {
   "cell_type": "code",
   "execution_count": 15,
   "metadata": {},
   "outputs": [
    {
     "data": {
      "text/html": [
       "<div>\n",
       "<style scoped>\n",
       "    .dataframe tbody tr th:only-of-type {\n",
       "        vertical-align: middle;\n",
       "    }\n",
       "\n",
       "    .dataframe tbody tr th {\n",
       "        vertical-align: top;\n",
       "    }\n",
       "\n",
       "    .dataframe thead th {\n",
       "        text-align: right;\n",
       "    }\n",
       "</style>\n",
       "<table border=\"1\" class=\"dataframe\">\n",
       "  <thead>\n",
       "    <tr style=\"text-align: right;\">\n",
       "      <th></th>\n",
       "      <th>actual</th>\n",
       "      <th>baseline</th>\n",
       "      <th>exam1_lm</th>\n",
       "      <th>exam2_lm</th>\n",
       "      <th>exam_mlm</th>\n",
       "    </tr>\n",
       "  </thead>\n",
       "  <tbody>\n",
       "    <tr>\n",
       "      <th>89</th>\n",
       "      <td>65</td>\n",
       "      <td>81.555556</td>\n",
       "      <td>65.177796</td>\n",
       "      <td>69.472453</td>\n",
       "      <td>66.393544</td>\n",
       "    </tr>\n",
       "    <tr>\n",
       "      <th>80</th>\n",
       "      <td>87</td>\n",
       "      <td>81.555556</td>\n",
       "      <td>86.723480</td>\n",
       "      <td>87.195957</td>\n",
       "      <td>86.402434</td>\n",
       "    </tr>\n",
       "    <tr>\n",
       "      <th>98</th>\n",
       "      <td>76</td>\n",
       "      <td>81.555556</td>\n",
       "      <td>77.489615</td>\n",
       "      <td>74.395649</td>\n",
       "      <td>75.598949</td>\n",
       "    </tr>\n",
       "    <tr>\n",
       "      <th>96</th>\n",
       "      <td>81</td>\n",
       "      <td>81.555556</td>\n",
       "      <td>82.106547</td>\n",
       "      <td>74.395649</td>\n",
       "      <td>82.300502</td>\n",
       "    </tr>\n",
       "    <tr>\n",
       "      <th>53</th>\n",
       "      <td>95</td>\n",
       "      <td>81.555556</td>\n",
       "      <td>96.726833</td>\n",
       "      <td>97.042348</td>\n",
       "      <td>96.806399</td>\n",
       "    </tr>\n",
       "  </tbody>\n",
       "</table>\n",
       "</div>"
      ],
      "text/plain": [
       "    actual   baseline   exam1_lm   exam2_lm   exam_mlm\n",
       "89      65  81.555556  65.177796  69.472453  66.393544\n",
       "80      87  81.555556  86.723480  87.195957  86.402434\n",
       "98      76  81.555556  77.489615  74.395649  75.598949\n",
       "96      81  81.555556  82.106547  74.395649  82.300502\n",
       "53      95  81.555556  96.726833  97.042348  96.806399"
      ]
     },
     "execution_count": 15,
     "metadata": {},
     "output_type": "execute_result"
    }
   ],
   "source": [
    "X = train[['exam1', 'exam3']]\n",
    "y = train.final_grade\n",
    "\n",
    "lm = LinearRegression().fit(X, y)\n",
    "predictions['exam_mlm'] = lm.predict(X)\n",
    "predictions.head()"
   ]
  },
  {
   "cell_type": "code",
   "execution_count": 16,
   "metadata": {},
   "outputs": [
    {
     "data": {
      "text/plain": [
       "1.834807066899921"
      ]
     },
     "execution_count": 16,
     "metadata": {},
     "output_type": "execute_result"
    }
   ],
   "source": [
    "SSE3, ESS3, TSS3, MSE3, RMSE3 = evaluate.regression_errors(train.final_grade, predictions.exam_mlm)\n",
    "RMSE3"
   ]
  },
  {
   "cell_type": "code",
   "execution_count": 17,
   "metadata": {},
   "outputs": [
    {
     "data": {
      "text/html": [
       "<div>\n",
       "<style scoped>\n",
       "    .dataframe tbody tr th:only-of-type {\n",
       "        vertical-align: middle;\n",
       "    }\n",
       "\n",
       "    .dataframe tbody tr th {\n",
       "        vertical-align: top;\n",
       "    }\n",
       "\n",
       "    .dataframe thead th {\n",
       "        text-align: right;\n",
       "    }\n",
       "</style>\n",
       "<table border=\"1\" class=\"dataframe\">\n",
       "  <thead>\n",
       "    <tr style=\"text-align: right;\">\n",
       "      <th></th>\n",
       "      <th>metric</th>\n",
       "      <th>exam1_lm</th>\n",
       "      <th>exam2_lm</th>\n",
       "      <th>exam_mlm</th>\n",
       "    </tr>\n",
       "  </thead>\n",
       "  <tbody>\n",
       "    <tr>\n",
       "      <th>0</th>\n",
       "      <td>MSE</td>\n",
       "      <td>4.134485</td>\n",
       "      <td>17.215849</td>\n",
       "      <td>3.366517</td>\n",
       "    </tr>\n",
       "    <tr>\n",
       "      <th>1</th>\n",
       "      <td>RMSE</td>\n",
       "      <td>2.033343</td>\n",
       "      <td>4.149199</td>\n",
       "      <td>1.834807</td>\n",
       "    </tr>\n",
       "  </tbody>\n",
       "</table>\n",
       "</div>"
      ],
      "text/plain": [
       "  metric  exam1_lm   exam2_lm  exam_mlm\n",
       "0    MSE  4.134485  17.215849  3.366517\n",
       "1   RMSE  2.033343   4.149199  1.834807"
      ]
     },
     "execution_count": 17,
     "metadata": {},
     "output_type": "execute_result"
    }
   ],
   "source": [
    "eval = pd.DataFrame(np.array(['RMSE']), columns=['metric'])\n",
    "\n",
    "eval = pd.DataFrame({\n",
    "    'metric': ['MSE', 'RMSE'],\n",
    "    'exam1_lm': [MSE1, RMSE1],\n",
    "    'exam2_lm': [MSE2, RMSE2],\n",
    "    'exam_mlm': [MSE3, RMSE3]    \n",
    "                       })\n",
    "\n",
    "eval"
   ]
  },
  {
   "cell_type": "code",
   "execution_count": 18,
   "metadata": {},
   "outputs": [],
   "source": [
    "# RMSE3 is lower than the other 2, so the error is lower for the model made with 2 features"
   ]
  },
  {
   "cell_type": "code",
   "execution_count": 19,
   "metadata": {},
   "outputs": [
    {
     "data": {
      "text/plain": [
       "Text(0.5, 1.0, 'Predicted vs Actual Final Grade')"
      ]
     },
     "execution_count": 19,
     "metadata": {},
     "output_type": "execute_result"
    },
    {
     "data": {
      "image/png": "[encoded data removed]",
      "text/plain": [
       "<Figure size 648x648 with 1 Axes>"
      ]
     },
     "metadata": {
      "needs_background": "light"
     },
     "output_type": "display_data"
    }
   ],
   "source": [
    "plt.figure(figsize=(9, 9))\n",
    "\n",
    "plt.scatter(predictions.actual, predictions.exam1_lm, label='Linear Model of exam1', marker='o')\n",
    "plt.scatter(predictions.actual, predictions.exam2_lm, label='Linear Model of exam2', marker='o')\n",
    "plt.scatter(predictions.actual, predictions.exam_mlm, label='Multi Linear Model of exam1 and exam3', marker='o')\n",
    "plt.scatter(predictions.actual, predictions.baseline, label='Baseline', marker='o')\n",
    "plt.plot([60, 100], [60, 100], label='Perfect predictions', ls=':', c='grey')\n",
    "\n",
    "plt.legend(title='Model')\n",
    "plt.ylabel('Predicted Final Grade')\n",
    "plt.xlabel('Actual Final Grade')\n",
    "plt.title('Predicted vs Actual Final Grade')"
   ]
  },
  {
   "cell_type": "markdown",
   "metadata": {},
   "source": [
    "## Take your best preforming model and measure its performance on the test data set. How does performance differ between train and test?"
   ]
  },
  {
   "cell_type": "code",
   "execution_count": 20,
   "metadata": {},
   "outputs": [
    {
     "data": {
      "text/html": [
       "<div>\n",
       "<style scoped>\n",
       "    .dataframe tbody tr th:only-of-type {\n",
       "        vertical-align: middle;\n",
       "    }\n",
       "\n",
       "    .dataframe tbody tr th {\n",
       "        vertical-align: top;\n",
       "    }\n",
       "\n",
       "    .dataframe thead th {\n",
       "        text-align: right;\n",
       "    }\n",
       "</style>\n",
       "<table border=\"1\" class=\"dataframe\">\n",
       "  <thead>\n",
       "    <tr style=\"text-align: right;\">\n",
       "      <th></th>\n",
       "      <th>actual</th>\n",
       "      <th>baseline</th>\n",
       "      <th>test_mlm</th>\n",
       "    </tr>\n",
       "  </thead>\n",
       "  <tbody>\n",
       "    <tr>\n",
       "      <th>20</th>\n",
       "      <td>76</td>\n",
       "      <td>83.571429</td>\n",
       "      <td>75.598949</td>\n",
       "    </tr>\n",
       "    <tr>\n",
       "      <th>13</th>\n",
       "      <td>96</td>\n",
       "      <td>83.571429</td>\n",
       "      <td>97.632122</td>\n",
       "    </tr>\n",
       "    <tr>\n",
       "      <th>75</th>\n",
       "      <td>68</td>\n",
       "      <td>83.571429</td>\n",
       "      <td>65.344119</td>\n",
       "    </tr>\n",
       "    <tr>\n",
       "      <th>8</th>\n",
       "      <td>77</td>\n",
       "      <td>83.571429</td>\n",
       "      <td>74.847793</td>\n",
       "    </tr>\n",
       "    <tr>\n",
       "      <th>61</th>\n",
       "      <td>70</td>\n",
       "      <td>83.571429</td>\n",
       "      <td>70.570043</td>\n",
       "    </tr>\n",
       "  </tbody>\n",
       "</table>\n",
       "</div>"
      ],
      "text/plain": [
       "    actual   baseline   test_mlm\n",
       "20      76  83.571429  75.598949\n",
       "13      96  83.571429  97.632122\n",
       "75      68  83.571429  65.344119\n",
       "8       77  83.571429  74.847793\n",
       "61      70  83.571429  70.570043"
      ]
     },
     "execution_count": 20,
     "metadata": {},
     "output_type": "execute_result"
    }
   ],
   "source": [
    "X = train[['exam1', 'exam3']]\n",
    "y = train.final_grade\n",
    "\n",
    "lm = LinearRegression().fit(X, y)\n",
    "\n",
    "test_pred = pd.DataFrame({\n",
    "    'actual': test.final_grade,\n",
    "    'baseline': test.final_grade.mean()\n",
    "})\n",
    "\n",
    "test_pred['test_mlm'] = lm.predict(test[['exam1', 'exam3']])\n",
    "test_pred.head()"
   ]
  },
  {
   "cell_type": "code",
   "execution_count": 21,
   "metadata": {},
   "outputs": [
    {
     "data": {
      "text/plain": [
       "(1.834807066899921, 1.4274455291788528)"
      ]
     },
     "execution_count": 21,
     "metadata": {},
     "output_type": "execute_result"
    }
   ],
   "source": [
    "SSE, ESS, TSS, MSE, RMSE = evaluate.regression_errors(test.final_grade, test_pred.test_mlm)\n",
    "RMSE3, RMSE"
   ]
  },
  {
   "cell_type": "markdown",
   "metadata": {},
   "source": [
    "> As a customer analyst, I want to know who has spent the most money with us over their lifetime. I have monthly charges and tenure, so I think I will be able to use those two attributes as features to estimate total_charges. I need to do this within an average of $5.00 per customer.\n",
    "\n",
    "# Run all your previous scripts that acquired, prepared, split, and scaled the telco churn data."
   ]
  },
  {
   "cell_type": "code",
   "execution_count": 22,
   "metadata": {},
   "outputs": [
    {
     "data": {
      "text/html": [
       "<div>\n",
       "<style scoped>\n",
       "    .dataframe tbody tr th:only-of-type {\n",
       "        vertical-align: middle;\n",
       "    }\n",
       "\n",
       "    .dataframe tbody tr th {\n",
       "        vertical-align: top;\n",
       "    }\n",
       "\n",
       "    .dataframe thead th {\n",
       "        text-align: right;\n",
       "    }\n",
       "</style>\n",
       "<table border=\"1\" class=\"dataframe\">\n",
       "  <thead>\n",
       "    <tr style=\"text-align: right;\">\n",
       "      <th></th>\n",
       "      <th>monthly_charges</th>\n",
       "      <th>tenure</th>\n",
       "      <th>total_charges</th>\n",
       "    </tr>\n",
       "  </thead>\n",
       "  <tbody>\n",
       "    <tr>\n",
       "      <th>3460-TJBWI</th>\n",
       "      <td>0.057855</td>\n",
       "      <td>0.333333</td>\n",
       "      <td>0.070247</td>\n",
       "    </tr>\n",
       "    <tr>\n",
       "      <th>8295-KMENE</th>\n",
       "      <td>0.579052</td>\n",
       "      <td>0.819444</td>\n",
       "      <td>0.521274</td>\n",
       "    </tr>\n",
       "    <tr>\n",
       "      <th>8039-EQPIM</th>\n",
       "      <td>0.417456</td>\n",
       "      <td>0.958333</td>\n",
       "      <td>0.467757</td>\n",
       "    </tr>\n",
       "    <tr>\n",
       "      <th>3777-XROBG</th>\n",
       "      <td>0.011471</td>\n",
       "      <td>0.805556</td>\n",
       "      <td>0.124526</td>\n",
       "    </tr>\n",
       "    <tr>\n",
       "      <th>4884-TVUQF</th>\n",
       "      <td>0.826933</td>\n",
       "      <td>0.791667</td>\n",
       "      <td>0.666613</td>\n",
       "    </tr>\n",
       "  </tbody>\n",
       "</table>\n",
       "</div>"
      ],
      "text/plain": [
       "            monthly_charges    tenure  total_charges\n",
       "3460-TJBWI         0.057855  0.333333       0.070247\n",
       "8295-KMENE         0.579052  0.819444       0.521274\n",
       "8039-EQPIM         0.417456  0.958333       0.467757\n",
       "3777-XROBG         0.011471  0.805556       0.124526\n",
       "4884-TVUQF         0.826933  0.791667       0.666613"
      ]
     },
     "execution_count": 22,
     "metadata": {},
     "output_type": "execute_result"
    }
   ],
   "source": [
    "telco = wrangle.wrangle_telco()\n",
    "train, test = split_scale.split_my_data(telco, 0.8)\n",
    "scaler, train_mm, test_mm = split_scale.min_max_scaler(train, test)\n",
    "train_mm.head()"
   ]
  },
  {
   "cell_type": "code",
   "execution_count": 23,
   "metadata": {},
   "outputs": [],
   "source": [
    "telco_preds = pd.DataFrame({\n",
    "    'actual': train_mm.total_charges,\n",
    "    'baseline': train_mm.total_charges.mean()\n",
    "})"
   ]
  },
  {
   "cell_type": "markdown",
   "metadata": {},
   "source": [
    "### Fit 3 different linear models to your data, one with just tenure, one with just monthly_charges, and one with both."
   ]
  },
  {
   "cell_type": "code",
   "execution_count": 24,
   "metadata": {},
   "outputs": [
    {
     "data": {
      "text/html": [
       "<div>\n",
       "<style scoped>\n",
       "    .dataframe tbody tr th:only-of-type {\n",
       "        vertical-align: middle;\n",
       "    }\n",
       "\n",
       "    .dataframe tbody tr th {\n",
       "        vertical-align: top;\n",
       "    }\n",
       "\n",
       "    .dataframe thead th {\n",
       "        text-align: right;\n",
       "    }\n",
       "</style>\n",
       "<table border=\"1\" class=\"dataframe\">\n",
       "  <thead>\n",
       "    <tr style=\"text-align: right;\">\n",
       "      <th></th>\n",
       "      <th>actual</th>\n",
       "      <th>baseline</th>\n",
       "      <th>tenure_lm</th>\n",
       "    </tr>\n",
       "  </thead>\n",
       "  <tbody>\n",
       "    <tr>\n",
       "      <th>3460-TJBWI</th>\n",
       "      <td>0.070247</td>\n",
       "      <td>0.424789</td>\n",
       "      <td>0.085754</td>\n",
       "    </tr>\n",
       "    <tr>\n",
       "      <th>8295-KMENE</th>\n",
       "      <td>0.521274</td>\n",
       "      <td>0.424789</td>\n",
       "      <td>0.446935</td>\n",
       "    </tr>\n",
       "    <tr>\n",
       "      <th>8039-EQPIM</th>\n",
       "      <td>0.467757</td>\n",
       "      <td>0.424789</td>\n",
       "      <td>0.550130</td>\n",
       "    </tr>\n",
       "    <tr>\n",
       "      <th>3777-XROBG</th>\n",
       "      <td>0.124526</td>\n",
       "      <td>0.424789</td>\n",
       "      <td>0.436616</td>\n",
       "    </tr>\n",
       "    <tr>\n",
       "      <th>4884-TVUQF</th>\n",
       "      <td>0.666613</td>\n",
       "      <td>0.424789</td>\n",
       "      <td>0.426296</td>\n",
       "    </tr>\n",
       "  </tbody>\n",
       "</table>\n",
       "</div>"
      ],
      "text/plain": [
       "              actual  baseline  tenure_lm\n",
       "3460-TJBWI  0.070247  0.424789   0.085754\n",
       "8295-KMENE  0.521274  0.424789   0.446935\n",
       "8039-EQPIM  0.467757  0.424789   0.550130\n",
       "3777-XROBG  0.124526  0.424789   0.436616\n",
       "4884-TVUQF  0.666613  0.424789   0.426296"
      ]
     },
     "execution_count": 24,
     "metadata": {},
     "output_type": "execute_result"
    }
   ],
   "source": [
    "X = train_mm[['tenure']]\n",
    "y = train_mm.total_charges\n",
    "\n",
    "lm = LinearRegression().fit(X, y)\n",
    "telco_preds['tenure_lm'] = lm.predict(X)\n",
    "telco_preds.head()"
   ]
  },
  {
   "cell_type": "code",
   "execution_count": 25,
   "metadata": {},
   "outputs": [
    {
     "data": {
      "text/html": [
       "<div>\n",
       "<style scoped>\n",
       "    .dataframe tbody tr th:only-of-type {\n",
       "        vertical-align: middle;\n",
       "    }\n",
       "\n",
       "    .dataframe tbody tr th {\n",
       "        vertical-align: top;\n",
       "    }\n",
       "\n",
       "    .dataframe thead th {\n",
       "        text-align: right;\n",
       "    }\n",
       "</style>\n",
       "<table border=\"1\" class=\"dataframe\">\n",
       "  <thead>\n",
       "    <tr style=\"text-align: right;\">\n",
       "      <th></th>\n",
       "      <th>actual</th>\n",
       "      <th>baseline</th>\n",
       "      <th>tenure_lm</th>\n",
       "      <th>monthly_lm</th>\n",
       "    </tr>\n",
       "  </thead>\n",
       "  <tbody>\n",
       "    <tr>\n",
       "      <th>3460-TJBWI</th>\n",
       "      <td>0.070247</td>\n",
       "      <td>0.424789</td>\n",
       "      <td>0.085754</td>\n",
       "      <td>0.131968</td>\n",
       "    </tr>\n",
       "    <tr>\n",
       "      <th>8295-KMENE</th>\n",
       "      <td>0.521274</td>\n",
       "      <td>0.424789</td>\n",
       "      <td>0.446935</td>\n",
       "      <td>0.555905</td>\n",
       "    </tr>\n",
       "    <tr>\n",
       "      <th>8039-EQPIM</th>\n",
       "      <td>0.467757</td>\n",
       "      <td>0.424789</td>\n",
       "      <td>0.550130</td>\n",
       "      <td>0.424464</td>\n",
       "    </tr>\n",
       "    <tr>\n",
       "      <th>3777-XROBG</th>\n",
       "      <td>0.124526</td>\n",
       "      <td>0.424789</td>\n",
       "      <td>0.436616</td>\n",
       "      <td>0.094239</td>\n",
       "    </tr>\n",
       "    <tr>\n",
       "      <th>4884-TVUQF</th>\n",
       "      <td>0.666613</td>\n",
       "      <td>0.424789</td>\n",
       "      <td>0.426296</td>\n",
       "      <td>0.757528</td>\n",
       "    </tr>\n",
       "  </tbody>\n",
       "</table>\n",
       "</div>"
      ],
      "text/plain": [
       "              actual  baseline  tenure_lm  monthly_lm\n",
       "3460-TJBWI  0.070247  0.424789   0.085754    0.131968\n",
       "8295-KMENE  0.521274  0.424789   0.446935    0.555905\n",
       "8039-EQPIM  0.467757  0.424789   0.550130    0.424464\n",
       "3777-XROBG  0.124526  0.424789   0.436616    0.094239\n",
       "4884-TVUQF  0.666613  0.424789   0.426296    0.757528"
      ]
     },
     "execution_count": 25,
     "metadata": {},
     "output_type": "execute_result"
    }
   ],
   "source": [
    "X = train_mm[['monthly_charges']]\n",
    "y = train_mm.total_charges\n",
    "\n",
    "lm = LinearRegression().fit(X, y)\n",
    "telco_preds['monthly_lm'] = lm.predict(X)\n",
    "telco_preds.head()"
   ]
  },
  {
   "cell_type": "code",
   "execution_count": 26,
   "metadata": {},
   "outputs": [
    {
     "data": {
      "text/html": [
       "<div>\n",
       "<style scoped>\n",
       "    .dataframe tbody tr th:only-of-type {\n",
       "        vertical-align: middle;\n",
       "    }\n",
       "\n",
       "    .dataframe tbody tr th {\n",
       "        vertical-align: top;\n",
       "    }\n",
       "\n",
       "    .dataframe thead th {\n",
       "        text-align: right;\n",
       "    }\n",
       "</style>\n",
       "<table border=\"1\" class=\"dataframe\">\n",
       "  <thead>\n",
       "    <tr style=\"text-align: right;\">\n",
       "      <th></th>\n",
       "      <th>actual</th>\n",
       "      <th>baseline</th>\n",
       "      <th>tenure_lm</th>\n",
       "      <th>monthly_lm</th>\n",
       "      <th>both_mlm</th>\n",
       "    </tr>\n",
       "  </thead>\n",
       "  <tbody>\n",
       "    <tr>\n",
       "      <th>3460-TJBWI</th>\n",
       "      <td>0.070247</td>\n",
       "      <td>0.424789</td>\n",
       "      <td>0.085754</td>\n",
       "      <td>0.131968</td>\n",
       "      <td>0.009878</td>\n",
       "    </tr>\n",
       "    <tr>\n",
       "      <th>8295-KMENE</th>\n",
       "      <td>0.521274</td>\n",
       "      <td>0.424789</td>\n",
       "      <td>0.446935</td>\n",
       "      <td>0.555905</td>\n",
       "      <td>0.549529</td>\n",
       "    </tr>\n",
       "    <tr>\n",
       "      <th>8039-EQPIM</th>\n",
       "      <td>0.467757</td>\n",
       "      <td>0.424789</td>\n",
       "      <td>0.550130</td>\n",
       "      <td>0.424464</td>\n",
       "      <td>0.483514</td>\n",
       "    </tr>\n",
       "    <tr>\n",
       "      <th>3777-XROBG</th>\n",
       "      <td>0.124526</td>\n",
       "      <td>0.424789</td>\n",
       "      <td>0.436616</td>\n",
       "      <td>0.094239</td>\n",
       "      <td>0.142166</td>\n",
       "    </tr>\n",
       "    <tr>\n",
       "      <th>4884-TVUQF</th>\n",
       "      <td>0.666613</td>\n",
       "      <td>0.424789</td>\n",
       "      <td>0.426296</td>\n",
       "      <td>0.757528</td>\n",
       "      <td>0.715598</td>\n",
       "    </tr>\n",
       "  </tbody>\n",
       "</table>\n",
       "</div>"
      ],
      "text/plain": [
       "              actual  baseline  tenure_lm  monthly_lm  both_mlm\n",
       "3460-TJBWI  0.070247  0.424789   0.085754    0.131968  0.009878\n",
       "8295-KMENE  0.521274  0.424789   0.446935    0.555905  0.549529\n",
       "8039-EQPIM  0.467757  0.424789   0.550130    0.424464  0.483514\n",
       "3777-XROBG  0.124526  0.424789   0.436616    0.094239  0.142166\n",
       "4884-TVUQF  0.666613  0.424789   0.426296    0.757528  0.715598"
      ]
     },
     "execution_count": 26,
     "metadata": {},
     "output_type": "execute_result"
    }
   ],
   "source": [
    "X = train_mm[['tenure', 'monthly_charges']]\n",
    "y = train_mm.total_charges\n",
    "\n",
    "lm = LinearRegression().fit(X, y)\n",
    "telco_preds['both_mlm'] = lm.predict(X)\n",
    "telco_preds.head()"
   ]
  },
  {
   "cell_type": "markdown",
   "metadata": {},
   "source": [
    "### Evaluate the models and your baseline."
   ]
  },
  {
   "cell_type": "code",
   "execution_count": 27,
   "metadata": {},
   "outputs": [
    {
     "data": {
      "text/plain": [
       "Text(0.5, 1.0, 'Predicted vs Actual Total Charges')"
      ]
     },
     "execution_count": 27,
     "metadata": {},
     "output_type": "execute_result"
    },
    {
     "data": {
      "image/png": "[encoded data removed]",
      "text/plain": [
       "<Figure size 648x648 with 1 Axes>"
      ]
     },
     "metadata": {
      "needs_background": "light"
     },
     "output_type": "display_data"
    }
   ],
   "source": [
    "plt.figure(figsize=(9, 9))\n",
    "\n",
    "plt.scatter(telco_preds.actual, telco_preds.tenure_lm, label='Linear Model of tenure', marker='o')\n",
    "plt.scatter(telco_preds.actual, telco_preds.monthly_lm, label='Linear Model of monthly charges', marker='o')\n",
    "plt.scatter(telco_preds.actual, telco_preds.both_mlm, label='Multi Linear Model of both', marker='o')\n",
    "plt.scatter(telco_preds.actual, telco_preds.baseline, label='Baseline', marker='o')\n",
    "plt.plot([-0.2, 1], [-0.2, 1], label='Perfect predictions', ls=':', c='grey')\n",
    "\n",
    "plt.legend(title='Model')\n",
    "plt.ylabel('Predicted Total Charges')\n",
    "plt.xlabel('Actual Total Charges')\n",
    "plt.title('Predicted vs Actual Total Charges')"
   ]
  },
  {
   "cell_type": "code",
   "execution_count": 28,
   "metadata": {},
   "outputs": [
    {
     "data": {
      "text/html": [
       "<div>\n",
       "<style scoped>\n",
       "    .dataframe tbody tr th:only-of-type {\n",
       "        vertical-align: middle;\n",
       "    }\n",
       "\n",
       "    .dataframe tbody tr th {\n",
       "        vertical-align: top;\n",
       "    }\n",
       "\n",
       "    .dataframe thead th {\n",
       "        text-align: right;\n",
       "    }\n",
       "</style>\n",
       "<table border=\"1\" class=\"dataframe\">\n",
       "  <thead>\n",
       "    <tr style=\"text-align: right;\">\n",
       "      <th></th>\n",
       "      <th>metric</th>\n",
       "      <th>baseline</th>\n",
       "      <th>tenure_lm</th>\n",
       "      <th>monthly_lm</th>\n",
       "      <th>both_mlm</th>\n",
       "    </tr>\n",
       "  </thead>\n",
       "  <tbody>\n",
       "    <tr>\n",
       "      <th>0</th>\n",
       "      <td>RMSE</td>\n",
       "      <td>0.296625</td>\n",
       "      <td>0.229962</td>\n",
       "      <td>0.098514</td>\n",
       "      <td>0.056657</td>\n",
       "    </tr>\n",
       "  </tbody>\n",
       "</table>\n",
       "</div>"
      ],
      "text/plain": [
       "  metric  baseline  tenure_lm  monthly_lm  both_mlm\n",
       "0   RMSE  0.296625   0.229962    0.098514  0.056657"
      ]
     },
     "execution_count": 28,
     "metadata": {},
     "output_type": "execute_result"
    }
   ],
   "source": [
    "SSE, ESS, TSS, MSE, RMSE = evaluate.regression_errors(train_mm.total_charges, telco_preds.baseline)\n",
    "SSE1, ESS1, TSS1, MSE1, RMSE1 = evaluate.regression_errors(train_mm.total_charges, telco_preds.tenure_lm)\n",
    "SSE2, ESS2, TSS2, MSE2, RMSE2 = evaluate.regression_errors(train_mm.total_charges, telco_preds.monthly_lm)\n",
    "SSE3, ESS3, TSS3, MSE3, RMSE3 = evaluate.regression_errors(train_mm.total_charges, telco_preds.both_mlm)\n",
    "\n",
    "eval = pd.DataFrame(np.array(['RMSE']), columns=['metric'])\n",
    "\n",
    "eval = pd.DataFrame({\n",
    "    'metric': ['RMSE'],\n",
    "    'baseline': [RMSE],\n",
    "    'tenure_lm': [RMSE1],\n",
    "    'monthly_lm': [RMSE2],\n",
    "    'both_mlm': [RMSE3]    \n",
    "                       })\n",
    "\n",
    "eval"
   ]
  },
  {
   "cell_type": "markdown",
   "metadata": {},
   "source": [
    "### Select the model that performed the best, and apply it to your test data."
   ]
  },
  {
   "cell_type": "code",
   "execution_count": 33,
   "metadata": {},
   "outputs": [
    {
     "data": {
      "text/html": [
       "<div>\n",
       "<style scoped>\n",
       "    .dataframe tbody tr th:only-of-type {\n",
       "        vertical-align: middle;\n",
       "    }\n",
       "\n",
       "    .dataframe tbody tr th {\n",
       "        vertical-align: top;\n",
       "    }\n",
       "\n",
       "    .dataframe thead th {\n",
       "        text-align: right;\n",
       "    }\n",
       "</style>\n",
       "<table border=\"1\" class=\"dataframe\">\n",
       "  <thead>\n",
       "    <tr style=\"text-align: right;\">\n",
       "      <th></th>\n",
       "      <th>actual</th>\n",
       "      <th>baseline</th>\n",
       "      <th>test_mlm</th>\n",
       "    </tr>\n",
       "  </thead>\n",
       "  <tbody>\n",
       "    <tr>\n",
       "      <th>6285-FTQBF</th>\n",
       "      <td>0.215419</td>\n",
       "      <td>0.438612</td>\n",
       "      <td>0.252625</td>\n",
       "    </tr>\n",
       "    <tr>\n",
       "      <th>8871-JLMHM</th>\n",
       "      <td>0.726364</td>\n",
       "      <td>0.438612</td>\n",
       "      <td>0.690519</td>\n",
       "    </tr>\n",
       "    <tr>\n",
       "      <th>8311-UEUAB</th>\n",
       "      <td>0.603159</td>\n",
       "      <td>0.438612</td>\n",
       "      <td>0.581675</td>\n",
       "    </tr>\n",
       "    <tr>\n",
       "      <th>5248-KWLAR</th>\n",
       "      <td>0.729548</td>\n",
       "      <td>0.438612</td>\n",
       "      <td>0.706155</td>\n",
       "    </tr>\n",
       "    <tr>\n",
       "      <th>4139-DETXS</th>\n",
       "      <td>0.522255</td>\n",
       "      <td>0.438612</td>\n",
       "      <td>0.527800</td>\n",
       "    </tr>\n",
       "  </tbody>\n",
       "</table>\n",
       "</div>"
      ],
      "text/plain": [
       "              actual  baseline  test_mlm\n",
       "6285-FTQBF  0.215419  0.438612  0.252625\n",
       "8871-JLMHM  0.726364  0.438612  0.690519\n",
       "8311-UEUAB  0.603159  0.438612  0.581675\n",
       "5248-KWLAR  0.729548  0.438612  0.706155\n",
       "4139-DETXS  0.522255  0.438612  0.527800"
      ]
     },
     "execution_count": 33,
     "metadata": {},
     "output_type": "execute_result"
    }
   ],
   "source": [
    "X = train_mm[['tenure', 'monthly_charges']]\n",
    "y = train_mm.total_charges\n",
    "\n",
    "lm = LinearRegression().fit(X, y)\n",
    "telco_test_pred = pd.DataFrame({\n",
    "    'actual': test_mm.total_charges,\n",
    "    'baseline': test_mm.total_charges.mean()\n",
    "})\n",
    "telco_test_pred['test_mlm'] = lm.predict(test_mm[['tenure', 'monthly_charges']])\n",
    "telco_test_pred.head()"
   ]
  },
  {
   "cell_type": "code",
   "execution_count": 34,
   "metadata": {},
   "outputs": [
    {
     "data": {
      "text/plain": [
       "(0.06437065577805369, 0.05665733449170364)"
      ]
     },
     "execution_count": 34,
     "metadata": {},
     "output_type": "execute_result"
    }
   ],
   "source": [
    "SSE_bl, ESS_bl, TSS_bl, MSE_bl, RMSE_bl = evaluate.regression_errors(test_mm.total_charges, telco_test_pred.test_mlm)\n",
    "RMSE_bl, RMSE3"
   ]
  },
  {
   "cell_type": "code",
   "execution_count": null,
   "metadata": {},
   "outputs": [],
   "source": []
  }
 ],
 "metadata": {
  "kernelspec": {
   "display_name": "Python 3",
   "language": "python",
   "name": "python3"
  },
  "language_info": {
   "codemirror_mode": {
    "name": "ipython",
    "version": 3
   },
   "file_extension": ".py",
   "mimetype": "text/x-python",
   "name": "python",
   "nbconvert_exporter": "python",
   "pygments_lexer": "ipython3",
   "version": "3.7.4"
  },
  "toc": {
   "base_numbering": 1,
   "nav_menu": {},
   "number_sections": true,
   "sideBar": true,
   "skip_h1_title": false,
   "title_cell": "Table of Contents",
   "title_sidebar": "Contents",
   "toc_cell": false,
   "toc_position": {},
   "toc_section_display": true,
   "toc_window_display": false
  }
 },
 "nbformat": 4,
 "nbformat_minor": 2
}
