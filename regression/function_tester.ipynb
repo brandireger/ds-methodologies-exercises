{
 "cells": [
  {
   "cell_type": "code",
   "execution_count": 1,
   "metadata": {},
   "outputs": [],
   "source": [
    "import numpy as np\n",
    "import pandas as pd\n",
    "from wrangle import wrangle_telco\n",
    "import split_scale"
   ]
  },
  {
   "cell_type": "code",
   "execution_count": 2,
   "metadata": {},
   "outputs": [],
   "source": [
    "tc_df = wrangle_telco()\n",
    "X = tc_df[['monthly_charges', 'tenure']]\n",
    "y = tc_df[['total_charges']]"
   ]
  },
  {
   "cell_type": "code",
   "execution_count": 3,
   "metadata": {},
   "outputs": [
    {
     "data": {
      "text/html": [
       "<div>\n",
       "<style scoped>\n",
       "    .dataframe tbody tr th:only-of-type {\n",
       "        vertical-align: middle;\n",
       "    }\n",
       "\n",
       "    .dataframe tbody tr th {\n",
       "        vertical-align: top;\n",
       "    }\n",
       "\n",
       "    .dataframe thead th {\n",
       "        text-align: right;\n",
       "    }\n",
       "</style>\n",
       "<table border=\"1\" class=\"dataframe\">\n",
       "  <thead>\n",
       "    <tr style=\"text-align: right;\">\n",
       "      <th></th>\n",
       "      <th>monthly_charges</th>\n",
       "      <th>tenure</th>\n",
       "    </tr>\n",
       "    <tr>\n",
       "      <th>customer_id</th>\n",
       "      <th></th>\n",
       "      <th></th>\n",
       "    </tr>\n",
       "  </thead>\n",
       "  <tbody>\n",
       "    <tr>\n",
       "      <td>3460-TJBWI</td>\n",
       "      <td>24.20</td>\n",
       "      <td>24</td>\n",
       "    </tr>\n",
       "    <tr>\n",
       "      <td>8295-KMENE</td>\n",
       "      <td>76.45</td>\n",
       "      <td>59</td>\n",
       "    </tr>\n",
       "    <tr>\n",
       "      <td>8039-EQPIM</td>\n",
       "      <td>60.25</td>\n",
       "      <td>69</td>\n",
       "    </tr>\n",
       "    <tr>\n",
       "      <td>3777-XROBG</td>\n",
       "      <td>19.55</td>\n",
       "      <td>58</td>\n",
       "    </tr>\n",
       "    <tr>\n",
       "      <td>4884-TVUQF</td>\n",
       "      <td>101.30</td>\n",
       "      <td>57</td>\n",
       "    </tr>\n",
       "  </tbody>\n",
       "</table>\n",
       "</div>"
      ],
      "text/plain": [
       "             monthly_charges  tenure\n",
       "customer_id                         \n",
       "3460-TJBWI             24.20      24\n",
       "8295-KMENE             76.45      59\n",
       "8039-EQPIM             60.25      69\n",
       "3777-XROBG             19.55      58\n",
       "4884-TVUQF            101.30      57"
      ]
     },
     "execution_count": 3,
     "metadata": {},
     "output_type": "execute_result"
    }
   ],
   "source": [
    "X_train, X_test, y_train, y_test = split_scale.split_my_data_xy(X, y, 0.8)\n",
    "X_train.head()"
   ]
  },
  {
   "cell_type": "code",
   "execution_count": 4,
   "metadata": {},
   "outputs": [],
   "source": [
    "train, test = split_scale.split_my_data(tc_df, 0.8)"
   ]
  },
  {
   "cell_type": "code",
   "execution_count": 5,
   "metadata": {},
   "outputs": [],
   "source": [
    "std_scaler, train_scaled_std, test_scaled_std = split_scale.standard_scaler(train, test)"
   ]
  },
  {
   "cell_type": "code",
   "execution_count": 6,
   "metadata": {},
   "outputs": [
    {
     "data": {
      "text/html": [
       "<div>\n",
       "<style scoped>\n",
       "    .dataframe tbody tr th:only-of-type {\n",
       "        vertical-align: middle;\n",
       "    }\n",
       "\n",
       "    .dataframe tbody tr th {\n",
       "        vertical-align: top;\n",
       "    }\n",
       "\n",
       "    .dataframe thead th {\n",
       "        text-align: right;\n",
       "    }\n",
       "</style>\n",
       "<table border=\"1\" class=\"dataframe\">\n",
       "  <thead>\n",
       "    <tr style=\"text-align: right;\">\n",
       "      <th></th>\n",
       "      <th>monthly_charges</th>\n",
       "      <th>tenure</th>\n",
       "      <th>total_charges</th>\n",
       "    </tr>\n",
       "  </thead>\n",
       "  <tbody>\n",
       "    <tr>\n",
       "      <td>3460-TJBWI</td>\n",
       "      <td>-1.046584</td>\n",
       "      <td>-1.809541</td>\n",
       "      <td>-1.195254</td>\n",
       "    </tr>\n",
       "    <tr>\n",
       "      <td>8295-KMENE</td>\n",
       "      <td>0.468623</td>\n",
       "      <td>0.118199</td>\n",
       "      <td>0.325276</td>\n",
       "    </tr>\n",
       "    <tr>\n",
       "      <td>8039-EQPIM</td>\n",
       "      <td>-0.001163</td>\n",
       "      <td>0.668982</td>\n",
       "      <td>0.144855</td>\n",
       "    </tr>\n",
       "    <tr>\n",
       "      <td>3777-XROBG</td>\n",
       "      <td>-1.181430</td>\n",
       "      <td>0.063121</td>\n",
       "      <td>-1.012267</td>\n",
       "    </tr>\n",
       "    <tr>\n",
       "      <td>4884-TVUQF</td>\n",
       "      <td>1.189253</td>\n",
       "      <td>0.008042</td>\n",
       "      <td>0.815250</td>\n",
       "    </tr>\n",
       "  </tbody>\n",
       "</table>\n",
       "</div>"
      ],
      "text/plain": [
       "            monthly_charges    tenure  total_charges\n",
       "3460-TJBWI        -1.046584 -1.809541      -1.195254\n",
       "8295-KMENE         0.468623  0.118199       0.325276\n",
       "8039-EQPIM        -0.001163  0.668982       0.144855\n",
       "3777-XROBG        -1.181430  0.063121      -1.012267\n",
       "4884-TVUQF         1.189253  0.008042       0.815250"
      ]
     },
     "execution_count": 6,
     "metadata": {},
     "output_type": "execute_result"
    }
   ],
   "source": [
    "train_scaled_std.head()"
   ]
  },
  {
   "cell_type": "code",
   "execution_count": 7,
   "metadata": {},
   "outputs": [],
   "source": [
    "std_scaler, X_train_scaled_std, X_test_scaled_std = split_scale.standard_scaler(X_train, X_test)"
   ]
  },
  {
   "cell_type": "code",
   "execution_count": 8,
   "metadata": {},
   "outputs": [
    {
     "data": {
      "text/html": [
       "<div>\n",
       "<style scoped>\n",
       "    .dataframe tbody tr th:only-of-type {\n",
       "        vertical-align: middle;\n",
       "    }\n",
       "\n",
       "    .dataframe tbody tr th {\n",
       "        vertical-align: top;\n",
       "    }\n",
       "\n",
       "    .dataframe thead th {\n",
       "        text-align: right;\n",
       "    }\n",
       "</style>\n",
       "<table border=\"1\" class=\"dataframe\">\n",
       "  <thead>\n",
       "    <tr style=\"text-align: right;\">\n",
       "      <th></th>\n",
       "      <th>monthly_charges</th>\n",
       "      <th>tenure</th>\n",
       "    </tr>\n",
       "  </thead>\n",
       "  <tbody>\n",
       "    <tr>\n",
       "      <td>3460-TJBWI</td>\n",
       "      <td>-1.046584</td>\n",
       "      <td>-1.809541</td>\n",
       "    </tr>\n",
       "    <tr>\n",
       "      <td>8295-KMENE</td>\n",
       "      <td>0.468623</td>\n",
       "      <td>0.118199</td>\n",
       "    </tr>\n",
       "    <tr>\n",
       "      <td>8039-EQPIM</td>\n",
       "      <td>-0.001163</td>\n",
       "      <td>0.668982</td>\n",
       "    </tr>\n",
       "    <tr>\n",
       "      <td>3777-XROBG</td>\n",
       "      <td>-1.181430</td>\n",
       "      <td>0.063121</td>\n",
       "    </tr>\n",
       "    <tr>\n",
       "      <td>4884-TVUQF</td>\n",
       "      <td>1.189253</td>\n",
       "      <td>0.008042</td>\n",
       "    </tr>\n",
       "  </tbody>\n",
       "</table>\n",
       "</div>"
      ],
      "text/plain": [
       "            monthly_charges    tenure\n",
       "3460-TJBWI        -1.046584 -1.809541\n",
       "8295-KMENE         0.468623  0.118199\n",
       "8039-EQPIM        -0.001163  0.668982\n",
       "3777-XROBG        -1.181430  0.063121\n",
       "4884-TVUQF         1.189253  0.008042"
      ]
     },
     "execution_count": 8,
     "metadata": {},
     "output_type": "execute_result"
    }
   ],
   "source": [
    "X_train_scaled_std.head()"
   ]
  },
  {
   "cell_type": "code",
   "execution_count": 9,
   "metadata": {},
   "outputs": [],
   "source": [
    "train_unscaled, test_unscaled = split_scale.scale_inverse(std_scaler, X_train_scaled_std, X_test_scaled_std)"
   ]
  },
  {
   "cell_type": "code",
   "execution_count": 16,
   "metadata": {},
   "outputs": [
    {
     "data": {
      "text/html": [
       "<div>\n",
       "<style scoped>\n",
       "    .dataframe tbody tr th:only-of-type {\n",
       "        vertical-align: middle;\n",
       "    }\n",
       "\n",
       "    .dataframe tbody tr th {\n",
       "        vertical-align: top;\n",
       "    }\n",
       "\n",
       "    .dataframe thead th {\n",
       "        text-align: right;\n",
       "    }\n",
       "</style>\n",
       "<table border=\"1\" class=\"dataframe\">\n",
       "  <thead>\n",
       "    <tr style=\"text-align: right;\">\n",
       "      <th></th>\n",
       "      <th>monthly_charges</th>\n",
       "      <th>tenure</th>\n",
       "    </tr>\n",
       "  </thead>\n",
       "  <tbody>\n",
       "    <tr>\n",
       "      <td>3460-TJBWI</td>\n",
       "      <td>24.20</td>\n",
       "      <td>24.0</td>\n",
       "    </tr>\n",
       "    <tr>\n",
       "      <td>8295-KMENE</td>\n",
       "      <td>76.45</td>\n",
       "      <td>59.0</td>\n",
       "    </tr>\n",
       "    <tr>\n",
       "      <td>8039-EQPIM</td>\n",
       "      <td>60.25</td>\n",
       "      <td>69.0</td>\n",
       "    </tr>\n",
       "    <tr>\n",
       "      <td>3777-XROBG</td>\n",
       "      <td>19.55</td>\n",
       "      <td>58.0</td>\n",
       "    </tr>\n",
       "    <tr>\n",
       "      <td>4884-TVUQF</td>\n",
       "      <td>101.30</td>\n",
       "      <td>57.0</td>\n",
       "    </tr>\n",
       "  </tbody>\n",
       "</table>\n",
       "</div>"
      ],
      "text/plain": [
       "            monthly_charges  tenure\n",
       "3460-TJBWI            24.20    24.0\n",
       "8295-KMENE            76.45    59.0\n",
       "8039-EQPIM            60.25    69.0\n",
       "3777-XROBG            19.55    58.0\n",
       "4884-TVUQF           101.30    57.0"
      ]
     },
     "execution_count": 16,
     "metadata": {},
     "output_type": "execute_result"
    }
   ],
   "source": [
    "train_unscaled.head()"
   ]
  },
  {
   "cell_type": "code",
   "execution_count": 17,
   "metadata": {},
   "outputs": [
    {
     "data": {
      "text/html": [
       "<div>\n",
       "<style scoped>\n",
       "    .dataframe tbody tr th:only-of-type {\n",
       "        vertical-align: middle;\n",
       "    }\n",
       "\n",
       "    .dataframe tbody tr th {\n",
       "        vertical-align: top;\n",
       "    }\n",
       "\n",
       "    .dataframe thead th {\n",
       "        text-align: right;\n",
       "    }\n",
       "</style>\n",
       "<table border=\"1\" class=\"dataframe\">\n",
       "  <thead>\n",
       "    <tr style=\"text-align: right;\">\n",
       "      <th></th>\n",
       "      <th>monthly_charges</th>\n",
       "      <th>tenure</th>\n",
       "    </tr>\n",
       "  </thead>\n",
       "  <tbody>\n",
       "    <tr>\n",
       "      <td>3460-TJBWI</td>\n",
       "      <td>0.256466</td>\n",
       "      <td>0.090909</td>\n",
       "    </tr>\n",
       "    <tr>\n",
       "      <td>8295-KMENE</td>\n",
       "      <td>0.602984</td>\n",
       "      <td>0.388889</td>\n",
       "    </tr>\n",
       "    <tr>\n",
       "      <td>8039-EQPIM</td>\n",
       "      <td>0.479185</td>\n",
       "      <td>0.641414</td>\n",
       "    </tr>\n",
       "    <tr>\n",
       "      <td>3777-XROBG</td>\n",
       "      <td>0.050505</td>\n",
       "      <td>0.373737</td>\n",
       "    </tr>\n",
       "    <tr>\n",
       "      <td>4884-TVUQF</td>\n",
       "      <td>0.838384</td>\n",
       "      <td>0.353535</td>\n",
       "    </tr>\n",
       "  </tbody>\n",
       "</table>\n",
       "</div>"
      ],
      "text/plain": [
       "            monthly_charges    tenure\n",
       "3460-TJBWI         0.256466  0.090909\n",
       "8295-KMENE         0.602984  0.388889\n",
       "8039-EQPIM         0.479185  0.641414\n",
       "3777-XROBG         0.050505  0.373737\n",
       "4884-TVUQF         0.838384  0.353535"
      ]
     },
     "execution_count": 17,
     "metadata": {},
     "output_type": "execute_result"
    }
   ],
   "source": [
    "unf_scaler, train_scaled_unf, test_scaled_unf = split_scale.uniform_scaler(X_train, X_test)\n",
    "train_scaled_unf.head()"
   ]
  },
  {
   "cell_type": "code",
   "execution_count": 18,
   "metadata": {},
   "outputs": [
    {
     "data": {
      "text/html": [
       "<div>\n",
       "<style scoped>\n",
       "    .dataframe tbody tr th:only-of-type {\n",
       "        vertical-align: middle;\n",
       "    }\n",
       "\n",
       "    .dataframe tbody tr th {\n",
       "        vertical-align: top;\n",
       "    }\n",
       "\n",
       "    .dataframe thead th {\n",
       "        text-align: right;\n",
       "    }\n",
       "</style>\n",
       "<table border=\"1\" class=\"dataframe\">\n",
       "  <thead>\n",
       "    <tr style=\"text-align: right;\">\n",
       "      <th></th>\n",
       "      <th>monthly_charges</th>\n",
       "      <th>tenure</th>\n",
       "    </tr>\n",
       "  </thead>\n",
       "  <tbody>\n",
       "    <tr>\n",
       "      <td>3460-TJBWI</td>\n",
       "      <td>6.054234</td>\n",
       "      <td>601.783587</td>\n",
       "    </tr>\n",
       "    <tr>\n",
       "      <td>8295-KMENE</td>\n",
       "      <td>10.412348</td>\n",
       "      <td>4275.197191</td>\n",
       "    </tr>\n",
       "    <tr>\n",
       "      <td>8039-EQPIM</td>\n",
       "      <td>9.352131</td>\n",
       "      <td>6037.452765</td>\n",
       "    </tr>\n",
       "    <tr>\n",
       "      <td>3777-XROBG</td>\n",
       "      <td>5.433135</td>\n",
       "      <td>4117.299434</td>\n",
       "    </tr>\n",
       "    <tr>\n",
       "      <td>4884-TVUQF</td>\n",
       "      <td>11.790033</td>\n",
       "      <td>3962.682642</td>\n",
       "    </tr>\n",
       "  </tbody>\n",
       "</table>\n",
       "</div>"
      ],
      "text/plain": [
       "            monthly_charges       tenure\n",
       "3460-TJBWI         6.054234   601.783587\n",
       "8295-KMENE        10.412348  4275.197191\n",
       "8039-EQPIM         9.352131  6037.452765\n",
       "3777-XROBG         5.433135  4117.299434\n",
       "4884-TVUQF        11.790033  3962.682642"
      ]
     },
     "execution_count": 18,
     "metadata": {},
     "output_type": "execute_result"
    }
   ],
   "source": [
    "gs_scaler, train_scaled_gs, test_scaled_gs = split_scale.gaussian_scaler(X_train, X_test)\n",
    "train_scaled_gs.head()"
   ]
  },
  {
   "cell_type": "code",
   "execution_count": 19,
   "metadata": {},
   "outputs": [
    {
     "data": {
      "text/html": [
       "<div>\n",
       "<style scoped>\n",
       "    .dataframe tbody tr th:only-of-type {\n",
       "        vertical-align: middle;\n",
       "    }\n",
       "\n",
       "    .dataframe tbody tr th {\n",
       "        vertical-align: top;\n",
       "    }\n",
       "\n",
       "    .dataframe thead th {\n",
       "        text-align: right;\n",
       "    }\n",
       "</style>\n",
       "<table border=\"1\" class=\"dataframe\">\n",
       "  <thead>\n",
       "    <tr style=\"text-align: right;\">\n",
       "      <th></th>\n",
       "      <th>monthly_charges</th>\n",
       "      <th>tenure</th>\n",
       "    </tr>\n",
       "  </thead>\n",
       "  <tbody>\n",
       "    <tr>\n",
       "      <td>3460-TJBWI</td>\n",
       "      <td>0.057855</td>\n",
       "      <td>0.333333</td>\n",
       "    </tr>\n",
       "    <tr>\n",
       "      <td>8295-KMENE</td>\n",
       "      <td>0.579052</td>\n",
       "      <td>0.819444</td>\n",
       "    </tr>\n",
       "    <tr>\n",
       "      <td>8039-EQPIM</td>\n",
       "      <td>0.417456</td>\n",
       "      <td>0.958333</td>\n",
       "    </tr>\n",
       "    <tr>\n",
       "      <td>3777-XROBG</td>\n",
       "      <td>0.011471</td>\n",
       "      <td>0.805556</td>\n",
       "    </tr>\n",
       "    <tr>\n",
       "      <td>4884-TVUQF</td>\n",
       "      <td>0.826933</td>\n",
       "      <td>0.791667</td>\n",
       "    </tr>\n",
       "  </tbody>\n",
       "</table>\n",
       "</div>"
      ],
      "text/plain": [
       "            monthly_charges    tenure\n",
       "3460-TJBWI         0.057855  0.333333\n",
       "8295-KMENE         0.579052  0.819444\n",
       "8039-EQPIM         0.417456  0.958333\n",
       "3777-XROBG         0.011471  0.805556\n",
       "4884-TVUQF         0.826933  0.791667"
      ]
     },
     "execution_count": 19,
     "metadata": {},
     "output_type": "execute_result"
    }
   ],
   "source": [
    "mm_scaler, train_scaled_mm, test_scaled_mm = split_scale.min_max_scaler(X_train, X_test)\n",
    "train_scaled_mm.head()"
   ]
  },
  {
   "cell_type": "code",
   "execution_count": 20,
   "metadata": {},
   "outputs": [
    {
     "data": {
      "text/html": [
       "<div>\n",
       "<style scoped>\n",
       "    .dataframe tbody tr th:only-of-type {\n",
       "        vertical-align: middle;\n",
       "    }\n",
       "\n",
       "    .dataframe tbody tr th {\n",
       "        vertical-align: top;\n",
       "    }\n",
       "\n",
       "    .dataframe thead th {\n",
       "        text-align: right;\n",
       "    }\n",
       "</style>\n",
       "<table border=\"1\" class=\"dataframe\">\n",
       "  <thead>\n",
       "    <tr style=\"text-align: right;\">\n",
       "      <th></th>\n",
       "      <th>monthly_charges</th>\n",
       "      <th>tenure</th>\n",
       "    </tr>\n",
       "  </thead>\n",
       "  <tbody>\n",
       "    <tr>\n",
       "      <td>3460-TJBWI</td>\n",
       "      <td>-0.600604</td>\n",
       "      <td>-1.739130</td>\n",
       "    </tr>\n",
       "    <tr>\n",
       "      <td>8295-KMENE</td>\n",
       "      <td>0.188373</td>\n",
       "      <td>-0.217391</td>\n",
       "    </tr>\n",
       "    <tr>\n",
       "      <td>8039-EQPIM</td>\n",
       "      <td>-0.056248</td>\n",
       "      <td>0.217391</td>\n",
       "    </tr>\n",
       "    <tr>\n",
       "      <td>3777-XROBG</td>\n",
       "      <td>-0.670819</td>\n",
       "      <td>-0.260870</td>\n",
       "    </tr>\n",
       "    <tr>\n",
       "      <td>4884-TVUQF</td>\n",
       "      <td>0.563609</td>\n",
       "      <td>-0.304348</td>\n",
       "    </tr>\n",
       "  </tbody>\n",
       "</table>\n",
       "</div>"
      ],
      "text/plain": [
       "            monthly_charges    tenure\n",
       "3460-TJBWI        -0.600604 -1.739130\n",
       "8295-KMENE         0.188373 -0.217391\n",
       "8039-EQPIM        -0.056248  0.217391\n",
       "3777-XROBG        -0.670819 -0.260870\n",
       "4884-TVUQF         0.563609 -0.304348"
      ]
     },
     "execution_count": 20,
     "metadata": {},
     "output_type": "execute_result"
    }
   ],
   "source": [
    "iqr_scaler, train_scaled_iqr, test_scaled_iqr = split_scale.iqr_robust_scaler(X_train, X_test)\n",
    "train_scaled_iqr.head()"
   ]
  },
  {
   "cell_type": "code",
   "execution_count": null,
   "metadata": {},
   "outputs": [],
   "source": []
  }
 ],
 "metadata": {
  "kernelspec": {
   "display_name": "Python 3",
   "language": "python",
   "name": "python3"
  },
  "language_info": {
   "codemirror_mode": {
    "name": "ipython",
    "version": 3
   },
   "file_extension": ".py",
   "mimetype": "text/x-python",
   "name": "python",
   "nbconvert_exporter": "python",
   "pygments_lexer": "ipython3",
   "version": "3.7.4"
  },
  "toc": {
   "base_numbering": 1,
   "nav_menu": {},
   "number_sections": true,
   "sideBar": true,
   "skip_h1_title": false,
   "title_cell": "Table of Contents",
   "title_sidebar": "Contents",
   "toc_cell": false,
   "toc_position": {},
   "toc_section_display": true,
   "toc_window_display": false
  }
 },
 "nbformat": 4,
 "nbformat_minor": 2
}
