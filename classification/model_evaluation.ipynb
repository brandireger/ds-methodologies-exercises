{
 "cells": [
  {
   "cell_type": "code",
   "execution_count": 4,
   "metadata": {},
   "outputs": [],
   "source": [
    "import numpy as np\n",
    "import pandas as pd"
   ]
  },
  {
   "cell_type": "markdown",
   "metadata": {},
   "source": [
    "# Evaluation Exercises\n",
    "\n",
    "### Q1\n",
    "\n",
    "Given the following confusion matrix, evaluate (by hand) the model's performance.\n",
    "\n",
    "\n",
    "|               | actual cat | actual dog |\n",
    "|:------------  |-----------:|-----------:|\n",
    "| predicted cat |         34 |          7 |\n",
    "| predicted dog |         13 |         46 |"
   ]
  },
  {
   "cell_type": "code",
   "execution_count": 3,
   "metadata": {},
   "outputs": [
    {
     "data": {
      "text/plain": [
       "0.8"
      ]
     },
     "execution_count": 3,
     "metadata": {},
     "output_type": "execute_result"
    }
   ],
   "source": [
    "Accuracy = (34 + 46) / (34 + 7 + 13 + 46)\n",
    "Accuracy"
   ]
  },
  {
   "cell_type": "markdown",
   "metadata": {},
   "source": [
    "In the context of this problem, what is a false positive?"
   ]
  },
  {
   "cell_type": "markdown",
   "metadata": {},
   "source": [
    "> The choice of positive or negative results in this case is arbitrary. Let's assume the model is trying to predict cats in images, then I could say the 'false positive' would be the predicted cat x actual dog result = 7"
   ]
  },
  {
   "cell_type": "markdown",
   "metadata": {},
   "source": [
    "In the context of this problem, what is a false negative?"
   ]
  },
  {
   "cell_type": "markdown",
   "metadata": {},
   "source": [
    "> The choice of positive or negative results in this case is arbitrary. Let's assume the model is trying to predict cats in images, then I could say the 'false negative' would be the predicted dog x actual cat result = 13"
   ]
  },
  {
   "cell_type": "markdown",
   "metadata": {},
   "source": [
    "How would you describe this model?"
   ]
  },
  {
   "cell_type": "markdown",
   "metadata": {},
   "source": [
    "> I would say this model did well, because there are more True results than False"
   ]
  },
  {
   "cell_type": "markdown",
   "metadata": {},
   "source": [
    "### Q2\n",
    "\n",
    "You are working as a datascientist working for Codeup Cody Creator (C3 for short), a rubber-duck manufacturing plant.\n",
    "\n",
    "Unfortunately, some of the rubber ducks that are produced will have defects. Your team has built several models that try to predict those defects, and the data from their predictions can be found here.\n",
    "\n",
    "Use the predictions dataset and pandas to help answer the following questions:"
   ]
  },
  {
   "cell_type": "code",
   "execution_count": 114,
   "metadata": {},
   "outputs": [
    {
     "data": {
      "text/html": [
       "<div>\n",
       "<style scoped>\n",
       "    .dataframe tbody tr th:only-of-type {\n",
       "        vertical-align: middle;\n",
       "    }\n",
       "\n",
       "    .dataframe tbody tr th {\n",
       "        vertical-align: top;\n",
       "    }\n",
       "\n",
       "    .dataframe thead th {\n",
       "        text-align: right;\n",
       "    }\n",
       "</style>\n",
       "<table border=\"1\" class=\"dataframe\">\n",
       "  <thead>\n",
       "    <tr style=\"text-align: right;\">\n",
       "      <th></th>\n",
       "      <th>actual</th>\n",
       "      <th>model1</th>\n",
       "      <th>model2</th>\n",
       "      <th>model3</th>\n",
       "    </tr>\n",
       "  </thead>\n",
       "  <tbody>\n",
       "    <tr>\n",
       "      <th>0</th>\n",
       "      <td>No Defect</td>\n",
       "      <td>No Defect</td>\n",
       "      <td>Defect</td>\n",
       "      <td>No Defect</td>\n",
       "    </tr>\n",
       "    <tr>\n",
       "      <th>1</th>\n",
       "      <td>No Defect</td>\n",
       "      <td>No Defect</td>\n",
       "      <td>Defect</td>\n",
       "      <td>Defect</td>\n",
       "    </tr>\n",
       "    <tr>\n",
       "      <th>2</th>\n",
       "      <td>No Defect</td>\n",
       "      <td>No Defect</td>\n",
       "      <td>Defect</td>\n",
       "      <td>No Defect</td>\n",
       "    </tr>\n",
       "    <tr>\n",
       "      <th>3</th>\n",
       "      <td>No Defect</td>\n",
       "      <td>Defect</td>\n",
       "      <td>Defect</td>\n",
       "      <td>Defect</td>\n",
       "    </tr>\n",
       "    <tr>\n",
       "      <th>4</th>\n",
       "      <td>No Defect</td>\n",
       "      <td>No Defect</td>\n",
       "      <td>Defect</td>\n",
       "      <td>No Defect</td>\n",
       "    </tr>\n",
       "  </tbody>\n",
       "</table>\n",
       "</div>"
      ],
      "text/plain": [
       "      actual     model1  model2     model3\n",
       "0  No Defect  No Defect  Defect  No Defect\n",
       "1  No Defect  No Defect  Defect     Defect\n",
       "2  No Defect  No Defect  Defect  No Defect\n",
       "3  No Defect     Defect  Defect     Defect\n",
       "4  No Defect  No Defect  Defect  No Defect"
      ]
     },
     "execution_count": 114,
     "metadata": {},
     "output_type": "execute_result"
    }
   ],
   "source": [
    "ducks = pd.read_csv('c3.csv')\n",
    "ducks.head()"
   ]
  },
  {
   "cell_type": "code",
   "execution_count": 115,
   "metadata": {},
   "outputs": [],
   "source": [
    "# True Positive Results\n",
    "\n",
    "TP_m1 = ducks[(ducks.actual == 'Defect') & (ducks.model1 == 'Defect')]\n",
    "TP_m1 = TP_m1[['actual', 'model1']]\n",
    "TP_m1 = TP_m1.shape[0]\n",
    "\n",
    "TP_m2 = ducks[(ducks.actual == 'Defect') & (ducks.model2 == 'Defect')]\n",
    "TP_m2 = TP_m2[['actual', 'model2']]\n",
    "TP_m2 = TP_m2.shape[0]\n",
    "\n",
    "TP_m3 = ducks[(ducks.actual == 'Defect') & (ducks.model3 == 'Defect')]\n",
    "TP_m3 = TP_m3[['actual', 'model3']]\n",
    "TP_m3 = TP_m3.shape[0]"
   ]
  },
  {
   "cell_type": "code",
   "execution_count": 116,
   "metadata": {},
   "outputs": [],
   "source": [
    "# True Negatives\n",
    "\n",
    "TN_m1 = ducks[(ducks.actual == 'No Defect') & (ducks.model1 == 'No Defect')]\n",
    "TN_m1 = TN_m1[['actual', 'model1']]\n",
    "TN_m1 = TN_m1.shape[0]\n",
    "\n",
    "TN_m2 = ducks[(ducks.actual == 'No Defect') & (ducks.model2 == 'No Defect')]\n",
    "TN_m2 = TN_m2[['actual', 'model2']]\n",
    "TN_m2 = TN_m2.shape[0]\n",
    "\n",
    "TN_m3 = ducks[(ducks.actual == 'No Defect') & (ducks.model3 == 'No Defect')]\n",
    "TN_m3 = TN_m3[['actual', 'model3']]\n",
    "TN_m3 = TN_m3.shape[0]"
   ]
  },
  {
   "cell_type": "code",
   "execution_count": 117,
   "metadata": {},
   "outputs": [],
   "source": [
    "# False Positives\n",
    "\n",
    "FP_m1 = ducks[(ducks.actual == 'No Defect') & (ducks.model1 == 'Defect')]\n",
    "FP_m1 = FP_m1[['actual', 'model1']]\n",
    "FP_m1 = FP_m1.shape[0]\n",
    "\n",
    "FP_m2 = ducks[(ducks.actual == 'No Defect') & (ducks.model2 == 'Defect')]\n",
    "FP_m2 = FP_m2[['actual', 'model2']]\n",
    "FP_m2 = FP_m2.shape[0]\n",
    "\n",
    "FP_m3 = ducks[(ducks.actual == 'No Defect') & (ducks.model3 == 'Defect')]\n",
    "FP_m3 = FP_m3[['actual', 'model3']]\n",
    "FP_m3 = FP_m3.shape[0]"
   ]
  },
  {
   "cell_type": "code",
   "execution_count": 118,
   "metadata": {},
   "outputs": [],
   "source": [
    "# False Negative\n",
    "\n",
    "FN_m1 = ducks[(ducks.actual == 'Defect') & (ducks.model1 == 'No Defect')]\n",
    "FN_m1 = FN_m1[['actual', 'model1']]\n",
    "FN_m1 = FN_m1.shape[0]\n",
    "\n",
    "FN_m2 = ducks[(ducks.actual == 'Defect') & (ducks.model2 == 'No Defect')]\n",
    "FN_m2 = FN_m2[['actual', 'model2']]\n",
    "FN_m2 = FN_m2.shape[0]\n",
    "\n",
    "FN_m3 = ducks[(ducks.actual == 'Defect') & (ducks.model3 == 'No Defect')]\n",
    "FN_m3 = FN_m3[['actual', 'model3']]\n",
    "FN_m3 = FN_m3.shape[0]"
   ]
  },
  {
   "cell_type": "code",
   "execution_count": 119,
   "metadata": {},
   "outputs": [],
   "source": [
    "ducks['baseline'] = 'No Defect'"
   ]
  },
  {
   "cell_type": "markdown",
   "metadata": {},
   "source": [
    "An internal team wants to investigate the cause of the manufacturing defects. They tell you that they want to identify as many of the ducks that have a defect as possible. \n",
    "- Which evaluation metric would be appropriate here?"
   ]
  },
  {
   "cell_type": "markdown",
   "metadata": {},
   "source": [
    "> recall: because we want to identify as many positive (defect) cases as possible"
   ]
  },
  {
   "cell_type": "markdown",
   "metadata": {},
   "source": [
    "Which model would be the best fit for this use case?"
   ]
  },
  {
   "cell_type": "code",
   "execution_count": 46,
   "metadata": {},
   "outputs": [
    {
     "data": {
      "text/plain": [
       "(0.5, 0.5625, 0.8125)"
      ]
     },
     "execution_count": 46,
     "metadata": {},
     "output_type": "execute_result"
    }
   ],
   "source": [
    "m1_recall = TP_m1 / (TP_m1 + FN_m1)\n",
    "m2_recall = TP_m2 / (TP_m2 + FN_m2)\n",
    "m3_recall = TP_m3 / (TP_m3 + FN_m3)\n",
    "\n",
    "m1_recall, m2_recall, m3_recall"
   ]
  },
  {
   "cell_type": "code",
   "execution_count": 120,
   "metadata": {},
   "outputs": [
    {
     "name": "stdout",
     "output_type": "stream",
     "text": [
      "Model 1\n",
      "Model Recall: 50.00%\n",
      "Baseline recall: 0.00%\n"
     ]
    }
   ],
   "source": [
    "positive = 'Defect'\n",
    "\n",
    "subset = ducks[ducks.actual == positive]\n",
    "model_recall = (subset.actual == subset.model1).mean()\n",
    "bl_recall = (subset.baseline == subset.actual).mean()\n",
    "\n",
    "print('Model 1')\n",
    "print(f'Model Recall: {model_recall:.2%}')\n",
    "print(f'Baseline recall: {bl_recall:.2%}')"
   ]
  },
  {
   "cell_type": "code",
   "execution_count": 121,
   "metadata": {},
   "outputs": [
    {
     "name": "stdout",
     "output_type": "stream",
     "text": [
      "Model 2\n",
      "Model Recall: 56.25%\n",
      "Baseline recall: 0.00%\n"
     ]
    }
   ],
   "source": [
    "positive = 'Defect'\n",
    "\n",
    "subset = ducks[ducks.actual == positive]\n",
    "model_recall = (subset.actual == subset.model2).mean()\n",
    "bl_recall = (subset.baseline == subset.actual).mean()\n",
    "\n",
    "print('Model 2')\n",
    "print(f'Model Recall: {model_recall:.2%}')\n",
    "print(f'Baseline recall: {bl_recall:.2%}')"
   ]
  },
  {
   "cell_type": "code",
   "execution_count": 122,
   "metadata": {},
   "outputs": [
    {
     "name": "stdout",
     "output_type": "stream",
     "text": [
      "Model 3\n",
      "Model Recall: 81.25%\n",
      "Baseline recall: 0.00%\n"
     ]
    }
   ],
   "source": [
    "positive = 'Defect'\n",
    "\n",
    "subset = ducks[ducks.actual == positive]\n",
    "model_recall = (subset.actual == subset.model3).mean()\n",
    "bl_recall = (subset.baseline == subset.actual).mean()\n",
    "\n",
    "print('Model 3')\n",
    "print(f'Model Recall: {model_recall:.2%}')\n",
    "print(f'Baseline recall: {bl_recall:.2%}')"
   ]
  },
  {
   "cell_type": "markdown",
   "metadata": {},
   "source": [
    "Recently several stories in the local news have come out highlighting customers who received a rubber duck with a defect, and portraying C3 in a bad light. The PR team has decided to launch a program that gives customers with a defective duck a vacation to Hawaii. They need you to predict which ducks will have defects, but tell you the really don't want to accidentally give out a vacation package when the duck really doesn't have a defect. \n",
    "- Which evaluation metric would be appropriate here?"
   ]
  },
  {
   "cell_type": "markdown",
   "metadata": {},
   "source": [
    "> Precision: because we want to correctly identify defective cases"
   ]
  },
  {
   "cell_type": "markdown",
   "metadata": {},
   "source": [
    " Which model would be the best fit for this use case?"
   ]
  },
  {
   "cell_type": "code",
   "execution_count": 53,
   "metadata": {},
   "outputs": [
    {
     "data": {
      "text/plain": [
       "(0.0898876404494382, 0.1, 0.13131313131313133)"
      ]
     },
     "execution_count": 53,
     "metadata": {},
     "output_type": "execute_result"
    }
   ],
   "source": [
    "m1_prec = TP_m1 / (TP_m1 + FP_m1)\n",
    "m2_prec = TP_m2 / (TP_m2 + FP_m2)\n",
    "m3_prec = TP_m3 / (TP_m3 + FP_m3)\n",
    "\n",
    "m1_prec, m2_prec, m3_prec"
   ]
  },
  {
   "cell_type": "code",
   "execution_count": null,
   "metadata": {},
   "outputs": [],
   "source": []
  },
  {
   "cell_type": "markdown",
   "metadata": {},
   "source": [
    "### Q3\n",
    "\n",
    "You are working as a data scientist for Gives You Paws ™, a subscription based service that shows you cute pictures of dogs or cats (or both for an additional fee).\n",
    "\n",
    "At Gives You Paws, anyone can upload pictures of their cats or dogs. The photos are then put through a two step process. First an automated algorithm tags pictures as either a cat or a dog (Phase I). Next, the photos that have been initially identified are put through another round of review, possibly with some human oversight, before being presented to the users (Phase II).\n",
    "\n",
    "Several models have already been developed with the data, and you can find their results here.\n",
    "\n",
    "Given this dataset, use pandas to create a baseline model (i.e. a model that just predicts the most common class) and answer the following questions:"
   ]
  },
  {
   "cell_type": "code",
   "execution_count": 55,
   "metadata": {},
   "outputs": [
    {
     "data": {
      "text/html": [
       "<div>\n",
       "<style scoped>\n",
       "    .dataframe tbody tr th:only-of-type {\n",
       "        vertical-align: middle;\n",
       "    }\n",
       "\n",
       "    .dataframe tbody tr th {\n",
       "        vertical-align: top;\n",
       "    }\n",
       "\n",
       "    .dataframe thead th {\n",
       "        text-align: right;\n",
       "    }\n",
       "</style>\n",
       "<table border=\"1\" class=\"dataframe\">\n",
       "  <thead>\n",
       "    <tr style=\"text-align: right;\">\n",
       "      <th></th>\n",
       "      <th>actual</th>\n",
       "      <th>model1</th>\n",
       "      <th>model2</th>\n",
       "      <th>model3</th>\n",
       "      <th>model4</th>\n",
       "    </tr>\n",
       "  </thead>\n",
       "  <tbody>\n",
       "    <tr>\n",
       "      <th>0</th>\n",
       "      <td>cat</td>\n",
       "      <td>cat</td>\n",
       "      <td>dog</td>\n",
       "      <td>cat</td>\n",
       "      <td>dog</td>\n",
       "    </tr>\n",
       "    <tr>\n",
       "      <th>1</th>\n",
       "      <td>dog</td>\n",
       "      <td>dog</td>\n",
       "      <td>cat</td>\n",
       "      <td>cat</td>\n",
       "      <td>dog</td>\n",
       "    </tr>\n",
       "    <tr>\n",
       "      <th>2</th>\n",
       "      <td>dog</td>\n",
       "      <td>cat</td>\n",
       "      <td>cat</td>\n",
       "      <td>cat</td>\n",
       "      <td>dog</td>\n",
       "    </tr>\n",
       "    <tr>\n",
       "      <th>3</th>\n",
       "      <td>dog</td>\n",
       "      <td>dog</td>\n",
       "      <td>dog</td>\n",
       "      <td>cat</td>\n",
       "      <td>dog</td>\n",
       "    </tr>\n",
       "    <tr>\n",
       "      <th>4</th>\n",
       "      <td>cat</td>\n",
       "      <td>cat</td>\n",
       "      <td>cat</td>\n",
       "      <td>dog</td>\n",
       "      <td>dog</td>\n",
       "    </tr>\n",
       "  </tbody>\n",
       "</table>\n",
       "</div>"
      ],
      "text/plain": [
       "  actual model1 model2 model3 model4\n",
       "0    cat    cat    dog    cat    dog\n",
       "1    dog    dog    cat    cat    dog\n",
       "2    dog    cat    cat    cat    dog\n",
       "3    dog    dog    dog    cat    dog\n",
       "4    cat    cat    cat    dog    dog"
      ]
     },
     "execution_count": 55,
     "metadata": {},
     "output_type": "execute_result"
    }
   ],
   "source": [
    "paws = pd.read_csv('gives_you_paws.csv')\n",
    "paws.head()"
   ]
  },
  {
   "cell_type": "code",
   "execution_count": 56,
   "metadata": {},
   "outputs": [
    {
     "data": {
      "text/plain": [
       "dog    3254\n",
       "cat    1746\n",
       "Name: actual, dtype: int64"
      ]
     },
     "execution_count": 56,
     "metadata": {},
     "output_type": "execute_result"
    }
   ],
   "source": [
    "paws.actual.value_counts()"
   ]
  },
  {
   "cell_type": "code",
   "execution_count": 59,
   "metadata": {},
   "outputs": [
    {
     "data": {
      "text/html": [
       "<div>\n",
       "<style scoped>\n",
       "    .dataframe tbody tr th:only-of-type {\n",
       "        vertical-align: middle;\n",
       "    }\n",
       "\n",
       "    .dataframe tbody tr th {\n",
       "        vertical-align: top;\n",
       "    }\n",
       "\n",
       "    .dataframe thead th {\n",
       "        text-align: right;\n",
       "    }\n",
       "</style>\n",
       "<table border=\"1\" class=\"dataframe\">\n",
       "  <thead>\n",
       "    <tr style=\"text-align: right;\">\n",
       "      <th></th>\n",
       "      <th>actual</th>\n",
       "      <th>model1</th>\n",
       "      <th>model2</th>\n",
       "      <th>model3</th>\n",
       "      <th>model4</th>\n",
       "      <th>baseline</th>\n",
       "    </tr>\n",
       "  </thead>\n",
       "  <tbody>\n",
       "    <tr>\n",
       "      <th>0</th>\n",
       "      <td>cat</td>\n",
       "      <td>cat</td>\n",
       "      <td>dog</td>\n",
       "      <td>cat</td>\n",
       "      <td>dog</td>\n",
       "      <td>dog</td>\n",
       "    </tr>\n",
       "    <tr>\n",
       "      <th>1</th>\n",
       "      <td>dog</td>\n",
       "      <td>dog</td>\n",
       "      <td>cat</td>\n",
       "      <td>cat</td>\n",
       "      <td>dog</td>\n",
       "      <td>dog</td>\n",
       "    </tr>\n",
       "    <tr>\n",
       "      <th>2</th>\n",
       "      <td>dog</td>\n",
       "      <td>cat</td>\n",
       "      <td>cat</td>\n",
       "      <td>cat</td>\n",
       "      <td>dog</td>\n",
       "      <td>dog</td>\n",
       "    </tr>\n",
       "    <tr>\n",
       "      <th>3</th>\n",
       "      <td>dog</td>\n",
       "      <td>dog</td>\n",
       "      <td>dog</td>\n",
       "      <td>cat</td>\n",
       "      <td>dog</td>\n",
       "      <td>dog</td>\n",
       "    </tr>\n",
       "    <tr>\n",
       "      <th>4</th>\n",
       "      <td>cat</td>\n",
       "      <td>cat</td>\n",
       "      <td>cat</td>\n",
       "      <td>dog</td>\n",
       "      <td>dog</td>\n",
       "      <td>dog</td>\n",
       "    </tr>\n",
       "  </tbody>\n",
       "</table>\n",
       "</div>"
      ],
      "text/plain": [
       "  actual model1 model2 model3 model4 baseline\n",
       "0    cat    cat    dog    cat    dog      dog\n",
       "1    dog    dog    cat    cat    dog      dog\n",
       "2    dog    cat    cat    cat    dog      dog\n",
       "3    dog    dog    dog    cat    dog      dog\n",
       "4    cat    cat    cat    dog    dog      dog"
      ]
     },
     "execution_count": 59,
     "metadata": {},
     "output_type": "execute_result"
    }
   ],
   "source": [
    "paws['baseline'] = 'dog'\n",
    "paws.head()"
   ]
  },
  {
   "cell_type": "markdown",
   "metadata": {},
   "source": [
    "In terms of accuracy, how do the various models compare to the baseline model? "
   ]
  },
  {
   "cell_type": "code",
   "execution_count": 72,
   "metadata": {},
   "outputs": [
    {
     "data": {
      "text/plain": [
       "(0.6508, 0.8074, 0.6304, 0.5096, 0.7426)"
      ]
     },
     "execution_count": 72,
     "metadata": {},
     "output_type": "execute_result"
    }
   ],
   "source": [
    "# accuracy\n",
    "bl_acc = (paws.actual == paws.baseline).mean()\n",
    "m1_acc = (paws.actual == paws.model1).mean()\n",
    "m2_acc = (paws.actual == paws.model2).mean()\n",
    "m3_acc = (paws.actual == paws.model3).mean()\n",
    "m4_acc = (paws.actual == paws.model4).mean()\n",
    "\n",
    "bl_acc, m1_acc, m2_acc, m3_acc, m4_acc"
   ]
  },
  {
   "cell_type": "code",
   "execution_count": 129,
   "metadata": {},
   "outputs": [
    {
     "data": {
      "text/html": [
       "<div>\n",
       "<style scoped>\n",
       "    .dataframe tbody tr th:only-of-type {\n",
       "        vertical-align: middle;\n",
       "    }\n",
       "\n",
       "    .dataframe tbody tr th {\n",
       "        vertical-align: top;\n",
       "    }\n",
       "\n",
       "    .dataframe thead th {\n",
       "        text-align: right;\n",
       "    }\n",
       "</style>\n",
       "<table border=\"1\" class=\"dataframe\">\n",
       "  <thead>\n",
       "    <tr style=\"text-align: right;\">\n",
       "      <th></th>\n",
       "      <th>model</th>\n",
       "      <th>accuracy</th>\n",
       "    </tr>\n",
       "  </thead>\n",
       "  <tbody>\n",
       "    <tr>\n",
       "      <th>0</th>\n",
       "      <td>model1</td>\n",
       "      <td>0.8074</td>\n",
       "    </tr>\n",
       "    <tr>\n",
       "      <th>3</th>\n",
       "      <td>model4</td>\n",
       "      <td>0.7426</td>\n",
       "    </tr>\n",
       "    <tr>\n",
       "      <th>4</th>\n",
       "      <td>baseline</td>\n",
       "      <td>0.6508</td>\n",
       "    </tr>\n",
       "    <tr>\n",
       "      <th>1</th>\n",
       "      <td>model2</td>\n",
       "      <td>0.6304</td>\n",
       "    </tr>\n",
       "    <tr>\n",
       "      <th>2</th>\n",
       "      <td>model3</td>\n",
       "      <td>0.5096</td>\n",
       "    </tr>\n",
       "  </tbody>\n",
       "</table>\n",
       "</div>"
      ],
      "text/plain": [
       "      model  accuracy\n",
       "0    model1    0.8074\n",
       "3    model4    0.7426\n",
       "4  baseline    0.6508\n",
       "1    model2    0.6304\n",
       "2    model3    0.5096"
      ]
     },
     "execution_count": 129,
     "metadata": {},
     "output_type": "execute_result"
    }
   ],
   "source": [
    "models = paws.loc[:, 'model1':'baseline'].columns.tolist()\n",
    "\n",
    "output = []\n",
    "for model in models:\n",
    "    output.append({\n",
    "        'model': model,\n",
    "        'accuracy': (paws[model] == paws.actual).mean()\n",
    "    })\n",
    "    \n",
    "metrics = pd.DataFrame(output)\n",
    "metrics = metrics.sort_values(by='accuracy', ascending=False)\n",
    "metrics"
   ]
  },
  {
   "cell_type": "markdown",
   "metadata": {},
   "source": [
    "Are any of the models better than the baseline?"
   ]
  },
  {
   "cell_type": "markdown",
   "metadata": {},
   "source": [
    "> model1 and model4 are better than baseline"
   ]
  },
  {
   "cell_type": "markdown",
   "metadata": {},
   "source": [
    "Suppose you are working on a team that solely deals with dog pictures. Which of these models would you recomend for Phase I?"
   ]
  },
  {
   "cell_type": "code",
   "execution_count": 78,
   "metadata": {},
   "outputs": [
    {
     "name": "stdout",
     "output_type": "stream",
     "text": [
      "   model1 accuracy: 80.74%\n",
      "   model2 accuracy: 63.04%\n",
      "   model3 accuracy: 50.96%\n",
      "   model4 accuracy: 74.26%\n",
      "baseline accuracy: 65.08%\n",
      "\n",
      "   model1 recall: 80.33%\n",
      "   model2 recall: 49.08%\n",
      "   model3 recall: 50.86%\n",
      "   model4 recall: 95.57%\n",
      "baseline recall: 100.00%\n",
      "\n",
      "model1 precision: 89.00%\n",
      "model2 precision: 80.03%\n",
      "model3 precision: 65.99%\n",
      "model4 precision: 73.12%\n",
      "baseline precision: 65.08%\n"
     ]
    }
   ],
   "source": [
    "positive = 'dog'\n",
    "\n",
    "# accuracy -- overall hit rate\n",
    "model1_accuracy = (paws.model1 == paws.actual).mean()\n",
    "model2_accuracy = (paws.model2 == paws.actual).mean()\n",
    "model3_accuracy = (paws.model3 == paws.actual).mean()\n",
    "model4_accuracy = (paws.model4 == paws.actual).mean()\n",
    "baseline_accuracy = (paws.baseline == paws.actual).mean()\n",
    "\n",
    "# precision -- how good are our positive predictions?\n",
    "# precision -- model performance | predicted positive\n",
    "subset1 = paws[paws.model1 == positive]\n",
    "model1_precision = (subset1.model1 == subset1.actual).mean()\n",
    "subset2 = paws[paws.model2 == positive]\n",
    "model2_precision = (subset2.model1 == subset2.actual).mean()\n",
    "subset3 = paws[paws.model3 == positive]\n",
    "model3_precision = (subset3.model3 == subset3.actual).mean()\n",
    "subset4 = paws[paws.model4 == positive]\n",
    "model4_precision = (subset4.model4 == subset4.actual).mean()\n",
    "subset_bl = paws[paws.baseline == positive]\n",
    "baseline_precision = (subset_bl.baseline == subset_bl.actual).mean()\n",
    "\n",
    "# recall -- how good are we at detecting actual positives?\n",
    "# recall -- model performance | actual positive\n",
    "subset = paws[paws.actual == positive]\n",
    "model1_recall = (subset.model1 == subset.actual).mean()\n",
    "model2_recall = (subset.model2 == subset.actual).mean()\n",
    "model3_recall = (subset.model3 == subset.actual).mean()\n",
    "model4_recall = (subset.model4 == subset.actual).mean()\n",
    "baseline_recall = (subset.baseline == subset.actual).mean()\n",
    "\n",
    "\n",
    "print(f'   model1 accuracy: {model1_accuracy:.2%}')\n",
    "print(f'   model2 accuracy: {model2_accuracy:.2%}')\n",
    "print(f'   model3 accuracy: {model3_accuracy:.2%}')\n",
    "print(f'   model4 accuracy: {model4_accuracy:.2%}')\n",
    "print(f'baseline accuracy: {baseline_accuracy:.2%}')\n",
    "print()\n",
    "print(f'   model1 recall: {model1_recall:.2%}')\n",
    "print(f'   model2 recall: {model2_recall:.2%}')\n",
    "print(f'   model3 recall: {model3_recall:.2%}')\n",
    "print(f'   model4 recall: {model4_recall:.2%}')\n",
    "print(f'baseline recall: {baseline_recall:.2%}')\n",
    "print()\n",
    "print(f'model1 precision: {model1_precision:.2%}')\n",
    "print(f'model2 precision: {model2_precision:.2%}')\n",
    "print(f'model3 precision: {model3_precision:.2%}')\n",
    "print(f'model4 precision: {model4_precision:.2%}')\n",
    "print(f'baseline precision: {baseline_precision:.2%}')"
   ]
  },
  {
   "cell_type": "markdown",
   "metadata": {},
   "source": [
    "> model4"
   ]
  },
  {
   "cell_type": "markdown",
   "metadata": {},
   "source": [
    "For Phase II?"
   ]
  },
  {
   "cell_type": "markdown",
   "metadata": {},
   "source": [
    "> model1"
   ]
  },
  {
   "cell_type": "markdown",
   "metadata": {},
   "source": [
    "Suppose you are working on a team that solely deals with cat pictures. Which of these models would you recomend for Phase I?"
   ]
  },
  {
   "cell_type": "code",
   "execution_count": 79,
   "metadata": {},
   "outputs": [
    {
     "name": "stdout",
     "output_type": "stream",
     "text": [
      "   model1 accuracy: 80.74%\n",
      "   model2 accuracy: 63.04%\n",
      "   model3 accuracy: 50.96%\n",
      "   model4 accuracy: 74.26%\n",
      "baseline accuracy: 65.08%\n",
      "\n",
      "   model1 recall: 81.50%\n",
      "   model2 recall: 89.06%\n",
      "   model3 recall: 51.15%\n",
      "   model4 recall: 34.54%\n",
      "baseline recall: 0.00%\n",
      "\n",
      "model1 precision: 68.98%\n",
      "model2 precision: 81.13%\n",
      "model3 precision: 35.83%\n",
      "model4 precision: 80.72%\n",
      "baseline precision: nan%\n"
     ]
    }
   ],
   "source": [
    "positive = 'cat'\n",
    "\n",
    "# accuracy -- overall hit rate\n",
    "model1_accuracy = (paws.model1 == paws.actual).mean()\n",
    "model2_accuracy = (paws.model2 == paws.actual).mean()\n",
    "model3_accuracy = (paws.model3 == paws.actual).mean()\n",
    "model4_accuracy = (paws.model4 == paws.actual).mean()\n",
    "baseline_accuracy = (paws.baseline == paws.actual).mean()\n",
    "\n",
    "# precision -- how good are our positive predictions?\n",
    "# precision -- model performance | predicted positive\n",
    "subset1 = paws[paws.model1 == positive]\n",
    "model1_precision = (subset1.model1 == subset1.actual).mean()\n",
    "subset2 = paws[paws.model2 == positive]\n",
    "model2_precision = (subset2.model1 == subset2.actual).mean()\n",
    "subset3 = paws[paws.model3 == positive]\n",
    "model3_precision = (subset3.model3 == subset3.actual).mean()\n",
    "subset4 = paws[paws.model4 == positive]\n",
    "model4_precision = (subset4.model4 == subset4.actual).mean()\n",
    "subset_bl = paws[paws.baseline == positive]\n",
    "baseline_precision = (subset_bl.baseline == subset_bl.actual).mean()\n",
    "\n",
    "# recall -- how good are we at detecting actual positives?\n",
    "# recall -- model performance | actual positive\n",
    "subset = paws[paws.actual == positive]\n",
    "model1_recall = (subset.model1 == subset.actual).mean()\n",
    "model2_recall = (subset.model2 == subset.actual).mean()\n",
    "model3_recall = (subset.model3 == subset.actual).mean()\n",
    "model4_recall = (subset.model4 == subset.actual).mean()\n",
    "baseline_recall = (subset.baseline == subset.actual).mean()\n",
    "\n",
    "\n",
    "print(f'   model1 accuracy: {model1_accuracy:.2%}')\n",
    "print(f'   model2 accuracy: {model2_accuracy:.2%}')\n",
    "print(f'   model3 accuracy: {model3_accuracy:.2%}')\n",
    "print(f'   model4 accuracy: {model4_accuracy:.2%}')\n",
    "print(f'baseline accuracy: {baseline_accuracy:.2%}')\n",
    "print()\n",
    "print(f'   model1 recall: {model1_recall:.2%}')\n",
    "print(f'   model2 recall: {model2_recall:.2%}')\n",
    "print(f'   model3 recall: {model3_recall:.2%}')\n",
    "print(f'   model4 recall: {model4_recall:.2%}')\n",
    "print(f'baseline recall: {baseline_recall:.2%}')\n",
    "print()\n",
    "print(f'model1 precision: {model1_precision:.2%}')\n",
    "print(f'model2 precision: {model2_precision:.2%}')\n",
    "print(f'model3 precision: {model3_precision:.2%}')\n",
    "print(f'model4 precision: {model4_precision:.2%}')\n",
    "print(f'baseline precision: {baseline_precision:.2%}')"
   ]
  },
  {
   "cell_type": "markdown",
   "metadata": {},
   "source": [
    "> model1"
   ]
  },
  {
   "cell_type": "markdown",
   "metadata": {},
   "source": [
    "For Phase II?"
   ]
  },
  {
   "cell_type": "markdown",
   "metadata": {},
   "source": [
    "> model2"
   ]
  },
  {
   "cell_type": "code",
   "execution_count": 86,
   "metadata": {},
   "outputs": [
    {
     "data": {
      "text/plain": [
       "0.8074"
      ]
     },
     "execution_count": 86,
     "metadata": {},
     "output_type": "execute_result"
    }
   ],
   "source": [
    "from sklearn.metrics import accuracy_score\n",
    "# sklearn.metrics.accuracy_score(y_true, y_pred, normalize=True, sample_weight=None)\n",
    "\n",
    "sklearn.metrics.accuracy_score(paws.actual, paws.model1)"
   ]
  },
  {
   "cell_type": "code",
   "execution_count": 87,
   "metadata": {},
   "outputs": [
    {
     "data": {
      "text/plain": [
       "0.6304"
      ]
     },
     "execution_count": 87,
     "metadata": {},
     "output_type": "execute_result"
    }
   ],
   "source": [
    "sklearn.metrics.accuracy_score(paws.actual, paws.model2)"
   ]
  },
  {
   "cell_type": "code",
   "execution_count": 88,
   "metadata": {},
   "outputs": [
    {
     "data": {
      "text/plain": [
       "0.5096"
      ]
     },
     "execution_count": 88,
     "metadata": {},
     "output_type": "execute_result"
    }
   ],
   "source": [
    "sklearn.metrics.accuracy_score(paws.actual, paws.model3)"
   ]
  },
  {
   "cell_type": "code",
   "execution_count": 89,
   "metadata": {},
   "outputs": [
    {
     "data": {
      "text/plain": [
       "0.7426"
      ]
     },
     "execution_count": 89,
     "metadata": {},
     "output_type": "execute_result"
    }
   ],
   "source": [
    "sklearn.metrics.accuracy_score(paws.actual, paws.model4)"
   ]
  },
  {
   "cell_type": "code",
   "execution_count": 95,
   "metadata": {},
   "outputs": [
    {
     "data": {
      "text/plain": [
       "0.6897721764420747"
      ]
     },
     "execution_count": 95,
     "metadata": {},
     "output_type": "execute_result"
    }
   ],
   "source": [
    "from sklearn.metrics import precision_score\n",
    "# sklearn.metrics.precision_score(y_true, y_pred, labels=None, pos_label=1, average='binary', sample_weight=None, zero_division='warn')\n",
    "\n",
    "sklearn.metrics.precision_score(paws.actual, paws.model1, pos_label='cat')"
   ]
  },
  {
   "cell_type": "code",
   "execution_count": 96,
   "metadata": {},
   "outputs": [
    {
     "data": {
      "text/plain": [
       "0.4841220423412204"
      ]
     },
     "execution_count": 96,
     "metadata": {},
     "output_type": "execute_result"
    }
   ],
   "source": [
    "sklearn.metrics.precision_score(paws.actual, paws.model2, pos_label='cat')"
   ]
  },
  {
   "cell_type": "code",
   "execution_count": 97,
   "metadata": {},
   "outputs": [
    {
     "data": {
      "text/plain": [
       "0.358346709470305"
      ]
     },
     "execution_count": 97,
     "metadata": {},
     "output_type": "execute_result"
    }
   ],
   "source": [
    "sklearn.metrics.precision_score(paws.actual, paws.model3, pos_label='cat')"
   ]
  },
  {
   "cell_type": "code",
   "execution_count": 98,
   "metadata": {},
   "outputs": [
    {
     "data": {
      "text/plain": [
       "0.8072289156626506"
      ]
     },
     "execution_count": 98,
     "metadata": {},
     "output_type": "execute_result"
    }
   ],
   "source": [
    "sklearn.metrics.precision_score(paws.actual, paws.model4, pos_label='cat')"
   ]
  },
  {
   "cell_type": "code",
   "execution_count": 99,
   "metadata": {},
   "outputs": [
    {
     "data": {
      "text/plain": [
       "0.8900238338440586"
      ]
     },
     "execution_count": 99,
     "metadata": {},
     "output_type": "execute_result"
    }
   ],
   "source": [
    "sklearn.metrics.precision_score(paws.actual, paws.model1, pos_label='dog')"
   ]
  },
  {
   "cell_type": "code",
   "execution_count": 100,
   "metadata": {},
   "outputs": [
    {
     "data": {
      "text/plain": [
       "0.8931767337807607"
      ]
     },
     "execution_count": 100,
     "metadata": {},
     "output_type": "execute_result"
    }
   ],
   "source": [
    "sklearn.metrics.precision_score(paws.actual, paws.model2, pos_label='dog')"
   ]
  },
  {
   "cell_type": "code",
   "execution_count": 101,
   "metadata": {},
   "outputs": [
    {
     "data": {
      "text/plain": [
       "0.6598883572567783"
      ]
     },
     "execution_count": 101,
     "metadata": {},
     "output_type": "execute_result"
    }
   ],
   "source": [
    "sklearn.metrics.precision_score(paws.actual, paws.model3, pos_label='dog')"
   ]
  },
  {
   "cell_type": "code",
   "execution_count": 102,
   "metadata": {},
   "outputs": [
    {
     "data": {
      "text/plain": [
       "0.7312485304490948"
      ]
     },
     "execution_count": 102,
     "metadata": {},
     "output_type": "execute_result"
    }
   ],
   "source": [
    "sklearn.metrics.precision_score(paws.actual, paws.model4, pos_label='dog')"
   ]
  },
  {
   "cell_type": "code",
   "execution_count": 104,
   "metadata": {},
   "outputs": [
    {
     "data": {
      "text/plain": [
       "0.8150057273768614"
      ]
     },
     "execution_count": 104,
     "metadata": {},
     "output_type": "execute_result"
    }
   ],
   "source": [
    "from sklearn.metrics import recall_score\n",
    "# sklearn.metrics.recall_score(y_true, y_pred, labels=None, pos_label=1, average='binary', sample_weight=None, zero_division='warn')\n",
    "\n",
    "sklearn.metrics.recall_score(paws.actual, paws.model1, pos_label='cat')"
   ]
  },
  {
   "cell_type": "code",
   "execution_count": 105,
   "metadata": {},
   "outputs": [
    {
     "data": {
      "text/plain": [
       "0.8906071019473081"
      ]
     },
     "execution_count": 105,
     "metadata": {},
     "output_type": "execute_result"
    }
   ],
   "source": [
    "sklearn.metrics.recall_score(paws.actual, paws.model2, pos_label='cat')"
   ]
  },
  {
   "cell_type": "code",
   "execution_count": 106,
   "metadata": {},
   "outputs": [
    {
     "data": {
      "text/plain": [
       "0.5114547537227949"
      ]
     },
     "execution_count": 106,
     "metadata": {},
     "output_type": "execute_result"
    }
   ],
   "source": [
    "sklearn.metrics.recall_score(paws.actual, paws.model3, pos_label='cat')"
   ]
  },
  {
   "cell_type": "code",
   "execution_count": 107,
   "metadata": {},
   "outputs": [
    {
     "data": {
      "text/plain": [
       "0.34536082474226804"
      ]
     },
     "execution_count": 107,
     "metadata": {},
     "output_type": "execute_result"
    }
   ],
   "source": [
    "sklearn.metrics.recall_score(paws.actual, paws.model4, pos_label='cat')"
   ]
  },
  {
   "cell_type": "code",
   "execution_count": 108,
   "metadata": {},
   "outputs": [
    {
     "data": {
      "text/plain": [
       "0.803318992009834"
      ]
     },
     "execution_count": 108,
     "metadata": {},
     "output_type": "execute_result"
    }
   ],
   "source": [
    "sklearn.metrics.recall_score(paws.actual, paws.model1, pos_label='dog')"
   ]
  },
  {
   "cell_type": "code",
   "execution_count": 109,
   "metadata": {},
   "outputs": [
    {
     "data": {
      "text/plain": [
       "0.49078057775046097"
      ]
     },
     "execution_count": 109,
     "metadata": {},
     "output_type": "execute_result"
    }
   ],
   "source": [
    "sklearn.metrics.recall_score(paws.actual, paws.model2, pos_label='dog')"
   ]
  },
  {
   "cell_type": "code",
   "execution_count": 110,
   "metadata": {},
   "outputs": [
    {
     "data": {
      "text/plain": [
       "0.5086047940995697"
      ]
     },
     "execution_count": 110,
     "metadata": {},
     "output_type": "execute_result"
    }
   ],
   "source": [
    "sklearn.metrics.recall_score(paws.actual, paws.model3, pos_label='dog')"
   ]
  },
  {
   "cell_type": "code",
   "execution_count": 111,
   "metadata": {},
   "outputs": [
    {
     "data": {
      "text/plain": [
       "0.9557467732022127"
      ]
     },
     "execution_count": 111,
     "metadata": {},
     "output_type": "execute_result"
    }
   ],
   "source": [
    "sklearn.metrics.recall_score(paws.actual, paws.model4, pos_label='dog')"
   ]
  },
  {
   "cell_type": "code",
   "execution_count": 127,
   "metadata": {},
   "outputs": [
    {
     "data": {
      "text/html": [
       "<div>\n",
       "<style scoped>\n",
       "    .dataframe tbody tr th:only-of-type {\n",
       "        vertical-align: middle;\n",
       "    }\n",
       "\n",
       "    .dataframe tbody tr th {\n",
       "        vertical-align: top;\n",
       "    }\n",
       "\n",
       "    .dataframe thead th {\n",
       "        text-align: right;\n",
       "    }\n",
       "</style>\n",
       "<table border=\"1\" class=\"dataframe\">\n",
       "  <thead>\n",
       "    <tr style=\"text-align: right;\">\n",
       "      <th></th>\n",
       "      <th>cat</th>\n",
       "      <th>dog</th>\n",
       "      <th>accuracy</th>\n",
       "      <th>macro avg</th>\n",
       "      <th>weighted avg</th>\n",
       "    </tr>\n",
       "  </thead>\n",
       "  <tbody>\n",
       "    <tr>\n",
       "      <th>precision</th>\n",
       "      <td>0.689772</td>\n",
       "      <td>0.890024</td>\n",
       "      <td>0.8074</td>\n",
       "      <td>0.789898</td>\n",
       "      <td>0.820096</td>\n",
       "    </tr>\n",
       "    <tr>\n",
       "      <th>recall</th>\n",
       "      <td>0.815006</td>\n",
       "      <td>0.803319</td>\n",
       "      <td>0.8074</td>\n",
       "      <td>0.809162</td>\n",
       "      <td>0.807400</td>\n",
       "    </tr>\n",
       "    <tr>\n",
       "      <th>f1-score</th>\n",
       "      <td>0.747178</td>\n",
       "      <td>0.844452</td>\n",
       "      <td>0.8074</td>\n",
       "      <td>0.795815</td>\n",
       "      <td>0.810484</td>\n",
       "    </tr>\n",
       "    <tr>\n",
       "      <th>support</th>\n",
       "      <td>1746.000000</td>\n",
       "      <td>3254.000000</td>\n",
       "      <td>0.8074</td>\n",
       "      <td>5000.000000</td>\n",
       "      <td>5000.000000</td>\n",
       "    </tr>\n",
       "  </tbody>\n",
       "</table>\n",
       "</div>"
      ],
      "text/plain": [
       "                   cat          dog  accuracy    macro avg  weighted avg\n",
       "precision     0.689772     0.890024    0.8074     0.789898      0.820096\n",
       "recall        0.815006     0.803319    0.8074     0.809162      0.807400\n",
       "f1-score      0.747178     0.844452    0.8074     0.795815      0.810484\n",
       "support    1746.000000  3254.000000    0.8074  5000.000000   5000.000000"
      ]
     },
     "execution_count": 127,
     "metadata": {},
     "output_type": "execute_result"
    }
   ],
   "source": [
    "from sklearn.metrics import classification_report\n",
    "# sklearn.metrics.classification_report(y_true, y_pred, labels=None, target_names=None, sample_weight=None, digits=2, output_dict=False, zero_division='warn')\n",
    "\n",
    "target_names = paws.actual.unique()\n",
    "x = sklearn.metrics.classification_report(paws.actual, paws.model1, target_names=target_names, output_dict=True)\n",
    "pd.DataFrame(x)"
   ]
  },
  {
   "cell_type": "code",
   "execution_count": null,
   "metadata": {},
   "outputs": [],
   "source": []
  }
 ],
 "metadata": {
  "kernelspec": {
   "display_name": "Python 3",
   "language": "python",
   "name": "python3"
  },
  "language_info": {
   "codemirror_mode": {
    "name": "ipython",
    "version": 3
   },
   "file_extension": ".py",
   "mimetype": "text/x-python",
   "name": "python",
   "nbconvert_exporter": "python",
   "pygments_lexer": "ipython3",
   "version": "3.7.4"
  }
 },
 "nbformat": 4,
 "nbformat_minor": 4
}
