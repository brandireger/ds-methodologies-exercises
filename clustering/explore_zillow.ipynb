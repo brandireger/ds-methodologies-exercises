{
 "cells": [
  {
   "cell_type": "code",
   "execution_count": 1,
   "metadata": {},
   "outputs": [],
   "source": [
    "# ignore warnings\n",
    "import warnings\n",
    "warnings.filterwarnings(\"ignore\")\n",
    "\n",
    "# Wrangling\n",
    "import pandas as pd\n",
    "import numpy as np\n",
    "from sklearn.model_selection import train_test_split\n",
    "from sklearn.preprocessing import MinMaxScaler\n",
    "from sklearn.preprocessing import StandardScaler\n",
    "\n",
    "# Exploring\n",
    "import scipy.stats as stats\n",
    "\n",
    "# Visualizing\n",
    "import matplotlib.pyplot as plt\n",
    "from matplotlib import cm\n",
    "import seaborn as sns\n",
    "from sklearn.model_selection import learning_curve\n",
    "%matplotlib inline\n",
    "\n",
    "pd.options.display.float_format = '{:20,.2f}'.format\n",
    "\n",
    "import wrangle_zillow"
   ]
  },
  {
   "cell_type": "code",
   "execution_count": 2,
   "metadata": {},
   "outputs": [],
   "source": [
    "zillow = wrangle_zillow.wrangle_zillow()"
   ]
  },
  {
   "cell_type": "code",
   "execution_count": 3,
   "metadata": {},
   "outputs": [],
   "source": [
    "train, test = wrangle_zillow.split_my_data(zillow, 0.8)"
   ]
  },
  {
   "cell_type": "code",
   "execution_count": 4,
   "metadata": {},
   "outputs": [
    {
     "data": {
      "text/html": [
       "<div>\n",
       "<style scoped>\n",
       "    .dataframe tbody tr th:only-of-type {\n",
       "        vertical-align: middle;\n",
       "    }\n",
       "\n",
       "    .dataframe tbody tr th {\n",
       "        vertical-align: top;\n",
       "    }\n",
       "\n",
       "    .dataframe thead th {\n",
       "        text-align: right;\n",
       "    }\n",
       "</style>\n",
       "<table border=\"1\" class=\"dataframe\">\n",
       "  <thead>\n",
       "    <tr style=\"text-align: right;\">\n",
       "      <th></th>\n",
       "      <th>parcelid</th>\n",
       "      <th>airconditioningtypeid</th>\n",
       "      <th>basementsqft</th>\n",
       "      <th>bathroomcnt</th>\n",
       "      <th>bedroomcnt</th>\n",
       "      <th>buildingqualitytypeid</th>\n",
       "      <th>decktypeid</th>\n",
       "      <th>finishedsquarefeet12</th>\n",
       "      <th>fips</th>\n",
       "      <th>fireplacecnt</th>\n",
       "      <th>...</th>\n",
       "      <th>taxvaluedollarcnt</th>\n",
       "      <th>assessmentyear</th>\n",
       "      <th>landtaxvaluedollarcnt</th>\n",
       "      <th>taxamount</th>\n",
       "      <th>taxdelinquencyflag</th>\n",
       "      <th>taxdelinquencyyear</th>\n",
       "      <th>censustractandblock</th>\n",
       "      <th>logerror</th>\n",
       "      <th>transactiondate</th>\n",
       "      <th>county</th>\n",
       "    </tr>\n",
       "    <tr>\n",
       "      <th>id</th>\n",
       "      <th></th>\n",
       "      <th></th>\n",
       "      <th></th>\n",
       "      <th></th>\n",
       "      <th></th>\n",
       "      <th></th>\n",
       "      <th></th>\n",
       "      <th></th>\n",
       "      <th></th>\n",
       "      <th></th>\n",
       "      <th></th>\n",
       "      <th></th>\n",
       "      <th></th>\n",
       "      <th></th>\n",
       "      <th></th>\n",
       "      <th></th>\n",
       "      <th></th>\n",
       "      <th></th>\n",
       "      <th></th>\n",
       "      <th></th>\n",
       "      <th></th>\n",
       "    </tr>\n",
       "  </thead>\n",
       "  <tbody>\n",
       "    <tr>\n",
       "      <th>1776129</th>\n",
       "      <td>17273608</td>\n",
       "      <td>0</td>\n",
       "      <td>0</td>\n",
       "      <td>2.00</td>\n",
       "      <td>3</td>\n",
       "      <td>6</td>\n",
       "      <td>0</td>\n",
       "      <td>1441</td>\n",
       "      <td>6111</td>\n",
       "      <td>1</td>\n",
       "      <td>...</td>\n",
       "      <td>494,000.00</td>\n",
       "      <td>2016</td>\n",
       "      <td>321,000.00</td>\n",
       "      <td>5,297.86</td>\n",
       "      <td>0</td>\n",
       "      <td>0</td>\n",
       "      <td>61110060003017.0</td>\n",
       "      <td>-0.03</td>\n",
       "      <td>2017-03-13</td>\n",
       "      <td>Ventura</td>\n",
       "    </tr>\n",
       "    <tr>\n",
       "      <th>1129326</th>\n",
       "      <td>13977124</td>\n",
       "      <td>0</td>\n",
       "      <td>0</td>\n",
       "      <td>6.50</td>\n",
       "      <td>6</td>\n",
       "      <td>6</td>\n",
       "      <td>0</td>\n",
       "      <td>6084</td>\n",
       "      <td>6059</td>\n",
       "      <td>0</td>\n",
       "      <td>...</td>\n",
       "      <td>6,396,075.00</td>\n",
       "      <td>2016</td>\n",
       "      <td>4,919,675.00</td>\n",
       "      <td>69,945.88</td>\n",
       "      <td>0</td>\n",
       "      <td>0</td>\n",
       "      <td>60590994151036.0</td>\n",
       "      <td>0.07</td>\n",
       "      <td>2017-06-09</td>\n",
       "      <td>Orange</td>\n",
       "    </tr>\n",
       "    <tr>\n",
       "      <th>1410513</th>\n",
       "      <td>12684160</td>\n",
       "      <td>0</td>\n",
       "      <td>0</td>\n",
       "      <td>2.00</td>\n",
       "      <td>3</td>\n",
       "      <td>6</td>\n",
       "      <td>0</td>\n",
       "      <td>1214</td>\n",
       "      <td>6037</td>\n",
       "      <td>0</td>\n",
       "      <td>...</td>\n",
       "      <td>629,340.00</td>\n",
       "      <td>2016</td>\n",
       "      <td>503,473.00</td>\n",
       "      <td>7,196.91</td>\n",
       "      <td>0</td>\n",
       "      <td>0</td>\n",
       "      <td>60376514012008.0</td>\n",
       "      <td>-0.01</td>\n",
       "      <td>2017-03-28</td>\n",
       "      <td>Los_Angeles</td>\n",
       "    </tr>\n",
       "    <tr>\n",
       "      <th>1218442</th>\n",
       "      <td>13872114</td>\n",
       "      <td>0</td>\n",
       "      <td>0</td>\n",
       "      <td>2.00</td>\n",
       "      <td>3</td>\n",
       "      <td>6</td>\n",
       "      <td>0</td>\n",
       "      <td>1059</td>\n",
       "      <td>6059</td>\n",
       "      <td>0</td>\n",
       "      <td>...</td>\n",
       "      <td>151,716.00</td>\n",
       "      <td>2016</td>\n",
       "      <td>101,134.00</td>\n",
       "      <td>1,989.80</td>\n",
       "      <td>Y</td>\n",
       "      <td>15</td>\n",
       "      <td>60590110004014.0</td>\n",
       "      <td>0.27</td>\n",
       "      <td>2017-04-14</td>\n",
       "      <td>Orange</td>\n",
       "    </tr>\n",
       "    <tr>\n",
       "      <th>912132</th>\n",
       "      <td>11007780</td>\n",
       "      <td>1</td>\n",
       "      <td>0</td>\n",
       "      <td>2.00</td>\n",
       "      <td>3</td>\n",
       "      <td>6</td>\n",
       "      <td>0</td>\n",
       "      <td>1292</td>\n",
       "      <td>6037</td>\n",
       "      <td>0</td>\n",
       "      <td>...</td>\n",
       "      <td>400,000.00</td>\n",
       "      <td>2016</td>\n",
       "      <td>300,000.00</td>\n",
       "      <td>5,042.45</td>\n",
       "      <td>0</td>\n",
       "      <td>0</td>\n",
       "      <td>60371061112002.0</td>\n",
       "      <td>-0.04</td>\n",
       "      <td>2017-04-18</td>\n",
       "      <td>Los_Angeles</td>\n",
       "    </tr>\n",
       "  </tbody>\n",
       "</table>\n",
       "<p>5 rows × 36 columns</p>\n",
       "</div>"
      ],
      "text/plain": [
       "         parcelid  airconditioningtypeid  basementsqft          bathroomcnt  \\\n",
       "id                                                                            \n",
       "1776129  17273608                      0             0                 2.00   \n",
       "1129326  13977124                      0             0                 6.50   \n",
       "1410513  12684160                      0             0                 2.00   \n",
       "1218442  13872114                      0             0                 2.00   \n",
       "912132   11007780                      1             0                 2.00   \n",
       "\n",
       "         bedroomcnt  buildingqualitytypeid  decktypeid  finishedsquarefeet12  \\\n",
       "id                                                                             \n",
       "1776129           3                      6           0                  1441   \n",
       "1129326           6                      6           0                  6084   \n",
       "1410513           3                      6           0                  1214   \n",
       "1218442           3                      6           0                  1059   \n",
       "912132            3                      6           0                  1292   \n",
       "\n",
       "         fips  fireplacecnt  ...    taxvaluedollarcnt  assessmentyear  \\\n",
       "id                           ...                                        \n",
       "1776129  6111             1  ...           494,000.00            2016   \n",
       "1129326  6059             0  ...         6,396,075.00            2016   \n",
       "1410513  6037             0  ...           629,340.00            2016   \n",
       "1218442  6059             0  ...           151,716.00            2016   \n",
       "912132   6037             0  ...           400,000.00            2016   \n",
       "\n",
       "         landtaxvaluedollarcnt            taxamount  taxdelinquencyflag  \\\n",
       "id                                                                        \n",
       "1776129             321,000.00             5,297.86                   0   \n",
       "1129326           4,919,675.00            69,945.88                   0   \n",
       "1410513             503,473.00             7,196.91                   0   \n",
       "1218442             101,134.00             1,989.80                   Y   \n",
       "912132              300,000.00             5,042.45                   0   \n",
       "\n",
       "         taxdelinquencyyear  censustractandblock             logerror  \\\n",
       "id                                                                      \n",
       "1776129                   0     61110060003017.0                -0.03   \n",
       "1129326                   0     60590994151036.0                 0.07   \n",
       "1410513                   0     60376514012008.0                -0.01   \n",
       "1218442                  15     60590110004014.0                 0.27   \n",
       "912132                    0     60371061112002.0                -0.04   \n",
       "\n",
       "         transactiondate       county  \n",
       "id                                     \n",
       "1776129       2017-03-13      Ventura  \n",
       "1129326       2017-06-09       Orange  \n",
       "1410513       2017-03-28  Los_Angeles  \n",
       "1218442       2017-04-14       Orange  \n",
       "912132        2017-04-18  Los_Angeles  \n",
       "\n",
       "[5 rows x 36 columns]"
      ]
     },
     "execution_count": 4,
     "metadata": {},
     "output_type": "execute_result"
    }
   ],
   "source": [
    "train.head()"
   ]
  },
  {
   "cell_type": "markdown",
   "metadata": {},
   "source": [
    "### Plot all continuous or numeric/ordered variables against each other in scatterplots, or through a pairplot."
   ]
  },
  {
   "cell_type": "code",
   "execution_count": 5,
   "metadata": {
    "scrolled": true
   },
   "outputs": [
    {
     "data": {
      "text/plain": [
       "['parcelid',\n",
       " 'airconditioningtypeid',\n",
       " 'basementsqft',\n",
       " 'bathroomcnt',\n",
       " 'bedroomcnt',\n",
       " 'buildingqualitytypeid',\n",
       " 'decktypeid',\n",
       " 'finishedsquarefeet12',\n",
       " 'fips',\n",
       " 'fireplacecnt',\n",
       " 'garagecarcnt',\n",
       " 'garagetotalsqft',\n",
       " 'hashottuborspa',\n",
       " 'heatingorsystemtypeid',\n",
       " 'latitude',\n",
       " 'longitude',\n",
       " 'lotsizesquarefeet',\n",
       " 'poolcnt',\n",
       " 'poolsizesum',\n",
       " 'regionidcounty',\n",
       " 'roomcnt',\n",
       " 'unitcnt',\n",
       " 'yearbuilt',\n",
       " 'numberofstories',\n",
       " 'structuretaxvaluedollarcnt',\n",
       " 'taxvaluedollarcnt',\n",
       " 'assessmentyear',\n",
       " 'landtaxvaluedollarcnt',\n",
       " 'taxamount',\n",
       " 'taxdelinquencyyear',\n",
       " 'logerror']"
      ]
     },
     "execution_count": 5,
     "metadata": {},
     "output_type": "execute_result"
    }
   ],
   "source": [
    "num_vars = list(train.select_dtypes('number').columns)\n",
    "num_vars"
   ]
  },
  {
   "cell_type": "code",
   "execution_count": null,
   "metadata": {},
   "outputs": [],
   "source": [
    "cont_vars = ['basementsqft',\n",
    "             'finishedsquarefeet12',\n",
    "             'garagetotalsqft',\n",
    "             'lotsizesquarefeet',\n",
    "             'poolsizesum',\n",
    "             'yearbuilt',\n",
    "             'structuretaxvaluedollarcnt',\n",
    "             'taxvaluedollarcnt',\n",
    "             'landtaxvaluedollarcnt',\n",
    "             'taxamount',\n",
    "             'logerror'\n",
    "            ]\n",
    "disc_vars = ['airconditioningtypeid',\n",
    "             'bathroomcnt',\n",
    "             'bedroomcnt',\n",
    "             'buildingqualitytypeid',\n",
    "             'decktypeid',\n",
    "             'fireplacecnt',\n",
    "             'garagecarcnt',\n",
    "             'hashottuborspa',\n",
    "             'heatingorsystemtypeid',\n",
    "             'poolcnt',\n",
    "             'roomcnt',\n",
    "             'unitcnt',\n",
    "             'numberofstories',\n",
    "             'assessmentyear',\n",
    "             'taxdelinquencyyear'\n",
    "            ]"
   ]
  },
  {
   "cell_type": "code",
   "execution_count": null,
   "metadata": {},
   "outputs": [],
   "source": [
    "sns.pairplot(train[cont_vars], hue='county')"
   ]
  },
  {
   "cell_type": "code",
   "execution_count": null,
   "metadata": {},
   "outputs": [],
   "source": [
    "sns.pairplot(train[disc_vars], hue='county')"
   ]
  },
  {
   "cell_type": "markdown",
   "metadata": {},
   "source": [
    "### Plot a correlation matrix heatmap."
   ]
  },
  {
   "cell_type": "code",
   "execution_count": null,
   "metadata": {},
   "outputs": [],
   "source": [
    "ax = sns.heatmap(train[cont_vars].corr(), cmap='plasma', annot=True)\n",
    "bottom, top = ax.get_ylim()\n",
    "ax.set_ylim(bottom + 0.5, top - 0.5)"
   ]
  },
  {
   "cell_type": "code",
   "execution_count": null,
   "metadata": {},
   "outputs": [],
   "source": [
    "ax = sns.heatmap(train[disc_vars].corr(), cmap='plasma', annot=True)\n",
    "bottom, top = ax.get_ylim()\n",
    "ax.set_ylim(bottom + 0.5, top - 0.5)"
   ]
  },
  {
   "cell_type": "markdown",
   "metadata": {},
   "source": [
    "### Plot latitude against longitude."
   ]
  },
  {
   "cell_type": "code",
   "execution_count": null,
   "metadata": {},
   "outputs": [],
   "source": []
  },
  {
   "cell_type": "markdown",
   "metadata": {},
   "source": [
    "### Create a useable plot with 4 dimensions, e.g. x, y, color, size."
   ]
  },
  {
   "cell_type": "code",
   "execution_count": null,
   "metadata": {},
   "outputs": [],
   "source": [
    "sns.scatterplot(x='finishedsquarefeet12', y='', hue='county', size='bathroomcnt')"
   ]
  },
  {
   "cell_type": "markdown",
   "metadata": {},
   "source": [
    "### Compute the mean(logerror) by zipcode and the overall mean(logerror). Write a loop that will run a t-test between the overall mean and the mean for each zip code. We want to identify the zip codes where the error is significantly higher or lower than the expected error."
   ]
  },
  {
   "cell_type": "code",
   "execution_count": null,
   "metadata": {},
   "outputs": [],
   "source": [
    "LA = train[train.county == 'Los_Angeles'].logerror.mean()\n",
    "OC = train[train.county == 'Orange'].logerror.mean()\n",
    "VC = train[train.county == 'Ventura'].logerror.mean()\n",
    "overall_mean = train.logerror.mean()"
   ]
  },
  {
   "cell_type": "code",
   "execution_count": null,
   "metadata": {},
   "outputs": [],
   "source": []
  },
  {
   "cell_type": "markdown",
   "metadata": {},
   "source": [
    "### Is logerror significantly different for properties in LA County vs Orange County vs Ventura County?"
   ]
  },
  {
   "cell_type": "code",
   "execution_count": null,
   "metadata": {},
   "outputs": [],
   "source": []
  }
 ],
 "metadata": {
  "kernelspec": {
   "display_name": "Python 3",
   "language": "python",
   "name": "python3"
  },
  "language_info": {
   "codemirror_mode": {
    "name": "ipython",
    "version": 3
   },
   "file_extension": ".py",
   "mimetype": "text/x-python",
   "name": "python",
   "nbconvert_exporter": "python",
   "pygments_lexer": "ipython3",
   "version": "3.7.4"
  }
 },
 "nbformat": 4,
 "nbformat_minor": 4
}
